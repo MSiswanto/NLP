{
  "nbformat": 4,
  "nbformat_minor": 0,
  "metadata": {
    "colab": {
      "provenance": [],
      "collapsed_sections": [],
      "toc_visible": true,
      "include_colab_link": true
    },
    "kernelspec": {
      "name": "python3",
      "display_name": "Python 3"
    },
    "language_info": {
      "name": "python"
    }
  },
  "cells": [
    {
      "cell_type": "markdown",
      "metadata": {
        "id": "view-in-github",
        "colab_type": "text"
      },
      "source": [
        "<a href=\"https://colab.research.google.com/github/MSiswanto/NLP/blob/main/AIM0407D2203_Lab_1A_STT_%26_TTS.ipynb\" target=\"_parent\"><img src=\"https://colab.research.google.com/assets/colab-badge.svg\" alt=\"Open In Colab\"/></a>"
      ]
    },
    {
      "cell_type": "markdown",
      "source": [
        "# AIM0407D2203 Lab 1A Speech to Text & Text to Speech\n",
        "---\n"
      ],
      "metadata": {
        "id": "Z2GU4ZFUhPJM"
      }
    },
    {
      "cell_type": "markdown",
      "metadata": {
        "id": "Ch92hdEuxexb"
      },
      "source": [
        "# 01 Speech to Text (STT)\n",
        "\n"
      ]
    },
    {
      "cell_type": "code",
      "metadata": {
        "id": "uCyyG9IExkZU",
        "colab": {
          "base_uri": "https://localhost:8080/"
        },
        "outputId": "f8b83a91-3368-4d5c-f237-1901d76ffeeb"
      },
      "source": [
        "!pip -q install speechrecognition"
      ],
      "execution_count": null,
      "outputs": [
        {
          "output_type": "stream",
          "name": "stdout",
          "text": [
            "\u001b[K     |████████████████████████████████| 32.8 MB 209 kB/s \n",
            "\u001b[?25h"
          ]
        }
      ]
    },
    {
      "cell_type": "markdown",
      "metadata": {
        "id": "3lRj4YiEU99o"
      },
      "source": [
        "Modul google speech recognition hanya bisa bekerja secara online tidak untuk offline. (Harus menggunakan internet)"
      ]
    },
    {
      "cell_type": "code",
      "metadata": {
        "id": "Hyw_8sxax7qX"
      },
      "source": [
        "import speech_recognition as sr"
      ],
      "execution_count": null,
      "outputs": []
    },
    {
      "cell_type": "code",
      "source": [
        "# all imports\n",
        "from IPython.display import Javascript\n",
        "from google.colab import output\n",
        "from base64 import b64decode\n",
        "\n",
        "RECORD = \"\"\"\n",
        "const sleep = time => new Promise(resolve => {\n",
        "setTimeout(resolve, time)\n",
        "}, )\n",
        "const b2text = blob => new Promise(resolve => {\n",
        "const reader = new FileReader()\n",
        "reader.onloadend = e => resolve(e.srcElement.result)\n",
        "reader.readAsDataURL(blob)\n",
        "})\n",
        "var espacio = document.querySelector(\"#output-area\")\n",
        "var record = time => new Promise(async resolve => {\n",
        "stream = await navigator.mediaDevices.getUserMedia({ audio: true })\n",
        "recorder = new MediaRecorder(stream)\n",
        "chunks = []\n",
        "recorder.ondataavailable = e => chunks.push(e.data)\n",
        "recorder.start()\n",
        "var numerillo = (time/1000)-1\n",
        "for (var i = 0; i < numerillo; i++) {\n",
        "espacio.appendChild(document.createTextNode(numerillo-i))\n",
        "await sleep(1000)\n",
        "espacio.removeChild(espacio.lastChild)\n",
        "}\n",
        "recorder.onstop = async ()=>{\n",
        "blob = new Blob(chunks)\n",
        "text = await b2text(blob)\n",
        "resolve(text)\n",
        "}\n",
        "recorder.stop()\n",
        "})\n",
        "\"\"\"\n",
        "\n",
        "def record(fn, sec):\n",
        "  display(Javascript(RECORD))\n",
        "  s = output.eval_js('record(%d)' % (sec*1000))\n",
        "  b = b64decode(s.split(',')[1])\n",
        "  with open(fn,'wb') as f:\n",
        "    f.write(b)\n",
        "  return fn"
      ],
      "metadata": {
        "id": "k55ylrqhpj-H"
      },
      "execution_count": null,
      "outputs": []
    },
    {
      "cell_type": "code",
      "metadata": {
        "id": "irmhz7qayVHL"
      },
      "source": [
        "#record\n",
        "filename = 'orbit.wav'\n",
        "record(filename, 5)"
      ],
      "execution_count": null,
      "outputs": []
    },
    {
      "cell_type": "code",
      "source": [
        "filename = 'felixtest.wav'\n",
        "record(filename, 10)"
      ],
      "metadata": {
        "id": "KZAza8iKprsR"
      },
      "execution_count": null,
      "outputs": []
    },
    {
      "cell_type": "code",
      "metadata": {
        "colab": {
          "base_uri": "https://localhost:8080/",
          "height": 321
        },
        "id": "6e3aMYwWP7F0",
        "outputId": "d43f9b39-bf90-4bf6-acc3-436dfacc03e7"
      },
      "source": [
        "import IPython.display as ipd\n",
        "ipd.Audio(path1)"
      ],
      "execution_count": null,
      "outputs": [
        {
          "output_type": "error",
          "ename": "ValueError",
          "evalue": "ignored",
          "traceback": [
            "\u001b[0;31m---------------------------------------------------------------------------\u001b[0m",
            "\u001b[0;31mValueError\u001b[0m                                Traceback (most recent call last)",
            "\u001b[0;32m<ipython-input-4-0c95c2d80a59>\u001b[0m in \u001b[0;36m<module>\u001b[0;34m\u001b[0m\n\u001b[1;32m      1\u001b[0m \u001b[0;32mimport\u001b[0m \u001b[0mIPython\u001b[0m\u001b[0;34m.\u001b[0m\u001b[0mdisplay\u001b[0m \u001b[0;32mas\u001b[0m \u001b[0mipd\u001b[0m\u001b[0;34m\u001b[0m\u001b[0;34m\u001b[0m\u001b[0m\n\u001b[0;32m----> 2\u001b[0;31m \u001b[0mipd\u001b[0m\u001b[0;34m.\u001b[0m\u001b[0mAudio\u001b[0m\u001b[0;34m(\u001b[0m\u001b[0mpath1\u001b[0m\u001b[0;34m)\u001b[0m\u001b[0;34m\u001b[0m\u001b[0;34m\u001b[0m\u001b[0m\n\u001b[0m",
            "\u001b[0;32m/usr/local/lib/python3.7/dist-packages/IPython/lib/display.py\u001b[0m in \u001b[0;36m__init__\u001b[0;34m(self, data, filename, url, embed, rate, autoplay, normalize, element_id)\u001b[0m\n\u001b[1;32m    112\u001b[0m         \u001b[0;32mif\u001b[0m \u001b[0mself\u001b[0m\u001b[0;34m.\u001b[0m\u001b[0mdata\u001b[0m \u001b[0;32mis\u001b[0m \u001b[0;32mnot\u001b[0m \u001b[0;32mNone\u001b[0m \u001b[0;32mand\u001b[0m \u001b[0;32mnot\u001b[0m \u001b[0misinstance\u001b[0m\u001b[0;34m(\u001b[0m\u001b[0mself\u001b[0m\u001b[0;34m.\u001b[0m\u001b[0mdata\u001b[0m\u001b[0;34m,\u001b[0m \u001b[0mbytes\u001b[0m\u001b[0;34m)\u001b[0m\u001b[0;34m:\u001b[0m\u001b[0;34m\u001b[0m\u001b[0;34m\u001b[0m\u001b[0m\n\u001b[1;32m    113\u001b[0m             \u001b[0;32mif\u001b[0m \u001b[0mrate\u001b[0m \u001b[0;32mis\u001b[0m \u001b[0;32mNone\u001b[0m\u001b[0;34m:\u001b[0m\u001b[0;34m\u001b[0m\u001b[0;34m\u001b[0m\u001b[0m\n\u001b[0;32m--> 114\u001b[0;31m                 \u001b[0;32mraise\u001b[0m \u001b[0mValueError\u001b[0m\u001b[0;34m(\u001b[0m\u001b[0;34m\"rate must be specified when data is a numpy array or list of audio samples.\"\u001b[0m\u001b[0;34m)\u001b[0m\u001b[0;34m\u001b[0m\u001b[0;34m\u001b[0m\u001b[0m\n\u001b[0m\u001b[1;32m    115\u001b[0m             \u001b[0mself\u001b[0m\u001b[0;34m.\u001b[0m\u001b[0mdata\u001b[0m \u001b[0;34m=\u001b[0m \u001b[0mAudio\u001b[0m\u001b[0;34m.\u001b[0m\u001b[0m_make_wav\u001b[0m\u001b[0;34m(\u001b[0m\u001b[0mdata\u001b[0m\u001b[0;34m,\u001b[0m \u001b[0mrate\u001b[0m\u001b[0;34m,\u001b[0m \u001b[0mnormalize\u001b[0m\u001b[0;34m)\u001b[0m\u001b[0;34m\u001b[0m\u001b[0;34m\u001b[0m\u001b[0m\n\u001b[1;32m    116\u001b[0m \u001b[0;34m\u001b[0m\u001b[0m\n",
            "\u001b[0;31mValueError\u001b[0m: rate must be specified when data is a numpy array or list of audio samples."
          ]
        }
      ]
    },
    {
      "cell_type": "code",
      "metadata": {
        "id": "rRn5MN81P_re"
      },
      "source": [
        "# initialize the recognizer\n",
        "r = sr.Recognizer()"
      ],
      "execution_count": null,
      "outputs": []
    },
    {
      "cell_type": "code",
      "metadata": {
        "colab": {
          "base_uri": "https://localhost:8080/"
        },
        "id": "UDI2DKqFQDyO",
        "outputId": "4d994aaf-cd46-424d-f6ba-88a49af6c381"
      },
      "source": [
        "# open the file\n",
        "# Membuka file audio yang di upload\n",
        "with sr.AudioFile(path1) as source:\n",
        "    # listen for the data (load audio to memory)\n",
        "    # Load audio ke memori\n",
        "    audio_data = r.record(source)\n",
        "    # recognize (convert from speech to text)\n",
        "    # konversi audio ke teks dan menggunakan bahasa Indonesia (id), bahasa dapat diganti sesuai dengan kebutuhan\n",
        "    text = r.recognize_google(audio_data, language='id')\n",
        "    # Tampilkan isi teks\n",
        "    print(text) "
      ],
      "execution_count": null,
      "outputs": [
        {
          "output_type": "stream",
          "name": "stdout",
          "text": [
            "Selamat berbuka puasa\n"
          ]
        }
      ]
    },
    {
      "cell_type": "markdown",
      "metadata": {
        "id": "K-_zzVgQ67Rr"
      },
      "source": [
        "# 02 Text to Speech (TTS)"
      ]
    },
    {
      "cell_type": "code",
      "metadata": {
        "id": "JJf07rZU7AqN"
      },
      "source": [
        "!pip -q install gTTS"
      ],
      "execution_count": null,
      "outputs": []
    },
    {
      "cell_type": "code",
      "metadata": {
        "id": "2BQ0a3lb7JaZ"
      },
      "source": [
        "from gtts import gTTS"
      ],
      "execution_count": null,
      "outputs": []
    },
    {
      "cell_type": "code",
      "metadata": {
        "id": "y2O5K-wW7Ldj"
      },
      "source": [
        "# Masukkan kata-kata yang ingin di konversi disini, dan ubah bahasa sesuai dengan kebutuhan, msialnya teks bahasa Indonesia maka set bahasa ke 'id'\n",
        "tts = gTTS('Selamat hari raya idul fitri', lang='id')\n",
        "\n",
        "# Simpan hasil konversi ke format wav file atau bisa juga format mp3\n",
        "tts.save('idulFitri.wav')"
      ],
      "execution_count": null,
      "outputs": []
    },
    {
      "cell_type": "code",
      "metadata": {
        "colab": {
          "base_uri": "https://localhost:8080/",
          "height": 75
        },
        "id": "Kjrnc0nl7Sne",
        "outputId": "cfe3c64a-2623-4d30-c54e-57ee1636cb8c"
      },
      "source": [
        "import IPython.display as ipd\n",
        "ipd.Audio('idulFitri.wav')"
      ],
      "execution_count": null,
      "outputs": [
        {
          "output_type": "execute_result",
          "data": {
            "text/plain": [
              "<IPython.lib.display.Audio object>"
            ],
            "text/html": [
              "\n",
              "                <audio controls=\"controls\" >\n",
              "                    <source src=\"data:audio/x-wav;base64,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\" type=\"audio/x-wav\" />\n",
              "                    Your browser does not support the audio element.\n",
              "                </audio>\n",
              "              "
            ]
          },
          "metadata": {},
          "execution_count": 40
        }
      ]
    }
  ]
}