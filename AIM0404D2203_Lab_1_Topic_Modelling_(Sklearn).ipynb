{
  "cells": [
    {
      "cell_type": "markdown",
      "metadata": {
        "id": "view-in-github",
        "colab_type": "text"
      },
      "source": [
        "<a href=\"https://colab.research.google.com/github/MSiswanto/NLP/blob/main/AIM0404D2203_Lab_1_Topic_Modelling_(Sklearn).ipynb\" target=\"_parent\"><img src=\"https://colab.research.google.com/assets/colab-badge.svg\" alt=\"Open In Colab\"/></a>"
      ]
    },
    {
      "cell_type": "markdown",
      "id": "77b62b21",
      "metadata": {
        "id": "77b62b21"
      },
      "source": [
        "# AIM0404D2203 Lab 1 Topic Modelling (Sklearn)\n",
        "---\n",
        "<br>\n",
        "<div style=\"font-size:20px;color:green;text-align:center\"><strong>Dataset Dokumen Berita (Sklearn) </strong></div>\n",
        "<br>\n",
        "<img align=center src= \"https://www.researchgate.net/publication/331669603/figure/fig1/AS:735488403070977@1552365508288/The-flow-of-LDA-Retrieved-from-https-toolboxkuriocoid-topic-modeling-696d7ba2592f.png\">"
      ]
    },
    {
      "cell_type": "markdown",
      "id": "4fdc27ba",
      "metadata": {
        "id": "4fdc27ba"
      },
      "source": [
        "<h1>Penjelasan Hands On</h1>"
      ]
    },
    {
      "cell_type": "markdown",
      "id": "1787aaff",
      "metadata": {
        "id": "1787aaff"
      },
      "source": [
        "Pada pertemuan ini, kita akan belajar Topic Modeling menggunakan algoritme LDA (Latent Dirichlet Allocation). Kasus yang akan kita selesaikan yaitu terkait dokumen berita. Kita akan mengekstrak dokumen berita tersebut untuk mendapatkan topik-topik penting yang ada di dalamnya.\n",
        "\n",
        "Proses menyelesaikan masalah di atas menggunakan pipeline pada Gambar di bawah ini:\n",
        "\n",
        "1. Data collection \n",
        "2. Pre-processing\n",
        "3. Feature Extraction\n",
        "4. Menentukan Nilai K terbaik\n",
        "5. Topic Modeling menggunakan LDA\n",
        "6. Mencari kesimpulan terhadap topik yang terbentuk"
      ]
    },
    {
      "cell_type": "markdown",
      "id": "c0506247",
      "metadata": {
        "id": "c0506247"
      },
      "source": [
        "<h1>Topic Modeling Pipeline</h1>\n",
        "<img align=center src= \"https://undangmi.com/wp-content/uploads/2022/09/LDA-pipeline.png\">"
      ]
    },
    {
      "cell_type": "markdown",
      "id": "172becda",
      "metadata": {
        "id": "172becda"
      },
      "source": [
        "# 01 Data Acquisition"
      ]
    },
    {
      "cell_type": "code",
      "execution_count": null,
      "id": "cad607c3",
      "metadata": {
        "id": "cad607c3"
      },
      "outputs": [],
      "source": [
        "#Download dataset di bawah ini\n",
        "#https://docs.google.com/spreadsheets/d/180ghjRmSRcR2iRVxBwZtVuhe7UumRcyD/edit?usp=sharing&ouid=117844591790417079121&rtpof=true&sd=true"
      ]
    },
    {
      "cell_type": "code",
      "execution_count": null,
      "id": "6d10d64f",
      "metadata": {
        "id": "6d10d64f"
      },
      "outputs": [],
      "source": [
        "#Import library yang dibutuhkan\n",
        "import re, string, unicodedata #modul regular expression\n",
        "import nltk\n",
        "from nltk import word_tokenize, sent_tokenize #Paket ini membagi teks input menjadi kata-kata.,\n",
        "from nltk.corpus import stopwords \n",
        "from sklearn.feature_extraction.text import CountVectorizer\n",
        "import pandas as pd\n",
        "import warnings\n",
        "warnings.filterwarnings(\"ignore\")\n"
      ]
    },
    {
      "cell_type": "code",
      "source": [
        "from google.colab import drive\n",
        "drive.mount('/content/drive')"
      ],
      "metadata": {
        "colab": {
          "base_uri": "https://localhost:8080/"
        },
        "id": "vQBRxfHEMH5w",
        "outputId": "ba17fda7-110c-4e25-b1db-a520082a08f0"
      },
      "id": "vQBRxfHEMH5w",
      "execution_count": null,
      "outputs": [
        {
          "output_type": "stream",
          "name": "stdout",
          "text": [
            "Mounted at /content/drive\n"
          ]
        }
      ]
    },
    {
      "cell_type": "code",
      "execution_count": null,
      "id": "354ce6e0",
      "metadata": {
        "id": "354ce6e0",
        "outputId": "d1e8092c-690f-4eed-c0b4-2325a8230e82",
        "colab": {
          "base_uri": "https://localhost:8080/",
          "height": 354
        }
      },
      "outputs": [
        {
          "output_type": "execute_result",
          "data": {
            "text/plain": [
              "   Unnamed: 0                                      Article Title  \\\n",
              "0           1  \\n                7 Hobi yang Bisa Datangkan C...   \n",
              "1           2  \\n                Perbanyak Ahli Gunung Api, I...   \n",
              "2           3  \\n                PTM Terbatas 2022 di Jakarta...   \n",
              "3           4  \\n                Mengapa Perlu Menjaga Kelest...   \n",
              "4           5  \\n                Cara Membuat Surat Lamaran K...   \n",
              "\n",
              "                                        Article Link  \\\n",
              "0  https://www.detik.com/edu/edutainment/d-588006...   \n",
              "1  https://www.detik.com/edu/perguruan-tinggi/d-5...   \n",
              "2  https://www.detik.com/edu/sekolah/d-5880075/pt...   \n",
              "3  https://www.detik.com/edu/detikpedia/d-5879161...   \n",
              "4  https://www.detik.com/edu/edutainment/d-587992...   \n",
              "\n",
              "                                     Article Content  \n",
              "0   Meski banyak orang menganggap hobi hanya seba...  \n",
              "1  Institut Teknologi Nasional (ITN) Yogyakarta m...  \n",
              "2  Pemerintah Provinsi DKI Jakarta melalui Kepala...  \n",
              "3  Tanaman bakau adalah salah satu ekosistem yang...  \n",
              "4  Membuat Curriculum Vitae (CV) dan surat lamara...  "
            ],
            "text/html": [
              "\n",
              "  <div id=\"df-cd36ad16-cb3f-431e-a252-37e5a6894114\">\n",
              "    <div class=\"colab-df-container\">\n",
              "      <div>\n",
              "<style scoped>\n",
              "    .dataframe tbody tr th:only-of-type {\n",
              "        vertical-align: middle;\n",
              "    }\n",
              "\n",
              "    .dataframe tbody tr th {\n",
              "        vertical-align: top;\n",
              "    }\n",
              "\n",
              "    .dataframe thead th {\n",
              "        text-align: right;\n",
              "    }\n",
              "</style>\n",
              "<table border=\"1\" class=\"dataframe\">\n",
              "  <thead>\n",
              "    <tr style=\"text-align: right;\">\n",
              "      <th></th>\n",
              "      <th>Unnamed: 0</th>\n",
              "      <th>Article Title</th>\n",
              "      <th>Article Link</th>\n",
              "      <th>Article Content</th>\n",
              "    </tr>\n",
              "  </thead>\n",
              "  <tbody>\n",
              "    <tr>\n",
              "      <th>0</th>\n",
              "      <td>1</td>\n",
              "      <td>\\n                7 Hobi yang Bisa Datangkan C...</td>\n",
              "      <td>https://www.detik.com/edu/edutainment/d-588006...</td>\n",
              "      <td>Meski banyak orang menganggap hobi hanya seba...</td>\n",
              "    </tr>\n",
              "    <tr>\n",
              "      <th>1</th>\n",
              "      <td>2</td>\n",
              "      <td>\\n                Perbanyak Ahli Gunung Api, I...</td>\n",
              "      <td>https://www.detik.com/edu/perguruan-tinggi/d-5...</td>\n",
              "      <td>Institut Teknologi Nasional (ITN) Yogyakarta m...</td>\n",
              "    </tr>\n",
              "    <tr>\n",
              "      <th>2</th>\n",
              "      <td>3</td>\n",
              "      <td>\\n                PTM Terbatas 2022 di Jakarta...</td>\n",
              "      <td>https://www.detik.com/edu/sekolah/d-5880075/pt...</td>\n",
              "      <td>Pemerintah Provinsi DKI Jakarta melalui Kepala...</td>\n",
              "    </tr>\n",
              "    <tr>\n",
              "      <th>3</th>\n",
              "      <td>4</td>\n",
              "      <td>\\n                Mengapa Perlu Menjaga Kelest...</td>\n",
              "      <td>https://www.detik.com/edu/detikpedia/d-5879161...</td>\n",
              "      <td>Tanaman bakau adalah salah satu ekosistem yang...</td>\n",
              "    </tr>\n",
              "    <tr>\n",
              "      <th>4</th>\n",
              "      <td>5</td>\n",
              "      <td>\\n                Cara Membuat Surat Lamaran K...</td>\n",
              "      <td>https://www.detik.com/edu/edutainment/d-587992...</td>\n",
              "      <td>Membuat Curriculum Vitae (CV) dan surat lamara...</td>\n",
              "    </tr>\n",
              "  </tbody>\n",
              "</table>\n",
              "</div>\n",
              "      <button class=\"colab-df-convert\" onclick=\"convertToInteractive('df-cd36ad16-cb3f-431e-a252-37e5a6894114')\"\n",
              "              title=\"Convert this dataframe to an interactive table.\"\n",
              "              style=\"display:none;\">\n",
              "        \n",
              "  <svg xmlns=\"http://www.w3.org/2000/svg\" height=\"24px\"viewBox=\"0 0 24 24\"\n",
              "       width=\"24px\">\n",
              "    <path d=\"M0 0h24v24H0V0z\" fill=\"none\"/>\n",
              "    <path d=\"M18.56 5.44l.94 2.06.94-2.06 2.06-.94-2.06-.94-.94-2.06-.94 2.06-2.06.94zm-11 1L8.5 8.5l.94-2.06 2.06-.94-2.06-.94L8.5 2.5l-.94 2.06-2.06.94zm10 10l.94 2.06.94-2.06 2.06-.94-2.06-.94-.94-2.06-.94 2.06-2.06.94z\"/><path d=\"M17.41 7.96l-1.37-1.37c-.4-.4-.92-.59-1.43-.59-.52 0-1.04.2-1.43.59L10.3 9.45l-7.72 7.72c-.78.78-.78 2.05 0 2.83L4 21.41c.39.39.9.59 1.41.59.51 0 1.02-.2 1.41-.59l7.78-7.78 2.81-2.81c.8-.78.8-2.07 0-2.86zM5.41 20L4 18.59l7.72-7.72 1.47 1.35L5.41 20z\"/>\n",
              "  </svg>\n",
              "      </button>\n",
              "      \n",
              "  <style>\n",
              "    .colab-df-container {\n",
              "      display:flex;\n",
              "      flex-wrap:wrap;\n",
              "      gap: 12px;\n",
              "    }\n",
              "\n",
              "    .colab-df-convert {\n",
              "      background-color: #E8F0FE;\n",
              "      border: none;\n",
              "      border-radius: 50%;\n",
              "      cursor: pointer;\n",
              "      display: none;\n",
              "      fill: #1967D2;\n",
              "      height: 32px;\n",
              "      padding: 0 0 0 0;\n",
              "      width: 32px;\n",
              "    }\n",
              "\n",
              "    .colab-df-convert:hover {\n",
              "      background-color: #E2EBFA;\n",
              "      box-shadow: 0px 1px 2px rgba(60, 64, 67, 0.3), 0px 1px 3px 1px rgba(60, 64, 67, 0.15);\n",
              "      fill: #174EA6;\n",
              "    }\n",
              "\n",
              "    [theme=dark] .colab-df-convert {\n",
              "      background-color: #3B4455;\n",
              "      fill: #D2E3FC;\n",
              "    }\n",
              "\n",
              "    [theme=dark] .colab-df-convert:hover {\n",
              "      background-color: #434B5C;\n",
              "      box-shadow: 0px 1px 3px 1px rgba(0, 0, 0, 0.15);\n",
              "      filter: drop-shadow(0px 1px 2px rgba(0, 0, 0, 0.3));\n",
              "      fill: #FFFFFF;\n",
              "    }\n",
              "  </style>\n",
              "\n",
              "      <script>\n",
              "        const buttonEl =\n",
              "          document.querySelector('#df-cd36ad16-cb3f-431e-a252-37e5a6894114 button.colab-df-convert');\n",
              "        buttonEl.style.display =\n",
              "          google.colab.kernel.accessAllowed ? 'block' : 'none';\n",
              "\n",
              "        async function convertToInteractive(key) {\n",
              "          const element = document.querySelector('#df-cd36ad16-cb3f-431e-a252-37e5a6894114');\n",
              "          const dataTable =\n",
              "            await google.colab.kernel.invokeFunction('convertToInteractive',\n",
              "                                                     [key], {});\n",
              "          if (!dataTable) return;\n",
              "\n",
              "          const docLinkHtml = 'Like what you see? Visit the ' +\n",
              "            '<a target=\"_blank\" href=https://colab.research.google.com/notebooks/data_table.ipynb>data table notebook</a>'\n",
              "            + ' to learn more about interactive tables.';\n",
              "          element.innerHTML = '';\n",
              "          dataTable['output_type'] = 'display_data';\n",
              "          await google.colab.output.renderOutput(dataTable, element);\n",
              "          const docLink = document.createElement('div');\n",
              "          docLink.innerHTML = docLinkHtml;\n",
              "          element.appendChild(docLink);\n",
              "        }\n",
              "      </script>\n",
              "    </div>\n",
              "  </div>\n",
              "  "
            ]
          },
          "metadata": {},
          "execution_count": 4
        }
      ],
      "source": [
        "#reading the dataset\n",
        "data= pd.read_excel('/content/drive/MyDrive/Orbit Future Academy/dataset_documents_indonesia.xlsx')\n",
        "data.head(5)"
      ]
    },
    {
      "cell_type": "markdown",
      "id": "bd923a7c",
      "metadata": {
        "id": "bd923a7c"
      },
      "source": [
        "# 02 Text Preprocessing"
      ]
    },
    {
      "cell_type": "markdown",
      "id": "15e7f013",
      "metadata": {
        "id": "15e7f013"
      },
      "source": [
        "## Case Folding"
      ]
    },
    {
      "cell_type": "code",
      "execution_count": null,
      "id": "66488fcf",
      "metadata": {
        "id": "66488fcf"
      },
      "outputs": [],
      "source": [
        "import re\n",
        "\n",
        "# Buat fungsi untuk langkah case folding\n",
        "def casefolding(text):\n",
        "    text = text.lower()                               # Mengubah teks menjadi lower case\n",
        "    text = re.sub(r'https?://\\S+|www\\.\\S+', '', text) # Menghapus URL\n",
        "    text = re.sub(r'[-+]?[0-9]+', '', text)           # Menghapus angka\n",
        "    text = re.sub(r'[^\\w\\s]','', text)                # Menghapus karakter tanda baca\n",
        "    text = text.strip()\n",
        "    return text"
      ]
    },
    {
      "cell_type": "code",
      "execution_count": null,
      "id": "a9ca40cd",
      "metadata": {
        "id": "a9ca40cd",
        "outputId": "25faaf4c-8502-4519-953f-6c36ee08780e",
        "colab": {
          "base_uri": "https://localhost:8080/"
        }
      },
      "outputs": [
        {
          "output_type": "stream",
          "name": "stdout",
          "text": [
            "Raw data\t:  Institut Teknologi Nasional (ITN) Yogyakarta membuka magister Teknik Geologi dengan program unggulan kegunungapian. Program baru ini ditujukan meningkatkan jumlah ahli untuk melalukan penelitian terkait aktivitas gunung api. Rektor ITN Yogyakarta Dr. Ir. Ircham, M.T. mengatakan Indonesia merupakan negara kepulauan yang secara geografis terletak dalam kawasan kawasan ring of fire atau cincin api Pasifik. Menurut National Oceanic and Atmospheric Administration (NOAA), cincin api merupakan serangkaian 850-1.000 gunung berapi yang membentang hampir 40.250 kilometer di sekitar Samudra Pasifik. \"Program ini akan memungkinkan semakin banyak penelitian yang akan dilakukan alumni ITN Yogyakarta memanfaatkan aktivitas gunung api bagi kemaslahatan kehidupan masyarakat,\" ujar Ircham dalam keterangan tertulisnya yang dikutip Sabtu, (1/1/2022). Ircham menyebut ITN Yogyakarta telah mendapat Surat Keputusan dari Kementerian Pendidikan, Kebudayaan, Riset, dan Teknologi (Kemendikbudristek) untuk membuka program magister tersebut. Dia meyakini program ini bisa menarik para mahasiswa yang ingin mendalami ilmu geologi. \"50 persen mahasiswa datang ke kampus, 50 persen mengikuti dari rumah. Target kuliah luring kita menunggu dari Dikti 5 kapan komando itu, kita bersiap semuanya,\" ujar Ircham. Sebelumnya, ahli gunung api Surono mengatakan, dengan sekitar 127 gunung api aktif hingga saat ini, masih tidak ada sekolah gunung api di Indonesia yang mempelajari vulkanologi secara menyeluruh. Padahal, menurutnya, Indonesia dapat menjadi center of excellence atau pusat studi kegunungapian. \"Ada sekolah yang mempelajari gunung api, tapi secara parsial. Tidak ada sekolah yang mempelajari tentang gunung api itu sendiri, padahal Indonesia salah satu yang memiliki gunung api terbanyak di dunia,\" ujarnya beberapa waktu lalu. Mantan Kepala PVMBG Kementerian ESDM ini menuturkan, belajar dan riset tentang gunung api di Indonesia penting agar kelak dapat difokuskan untuk mitigasi bencana terkait gunung api. Menurut pria yang dikenal dengan panggilan mbah Rono ini mengatakan banyaknya gunung api aktif di Indonesia berpotensi pada berulangnya bencana yang sama dengan yang terjadi tahun ini di masa mendatang. Adapun Wakil Rektor III ITN Yogyakarta Hill Gendoet Hartono menambahkan, proses pembukaan jenjang magister ini mengalami tahapan yang cukup panjang. Bahkan sudah direncanakan sejak tahun 2008, dan baru memenuhi seluruh persyaratan di tahun 2018. Selanjutnya disahkan oleh Ditjen Pendidikan Tinggi pada 2021.\n",
            "\n",
            "\n",
            "Case folding\t:  institut teknologi nasional itn yogyakarta membuka magister teknik geologi dengan program unggulan kegunungapian program baru ini ditujukan meningkatkan jumlah ahli untuk melalukan penelitian terkait aktivitas gunung api rektor itn yogyakarta dr ir ircham mt mengatakan indonesia merupakan negara kepulauan yang secara geografis terletak dalam kawasan kawasan ring of fire atau cincin api pasifik menurut national oceanic and atmospheric administration noaa cincin api merupakan serangkaian  gunung berapi yang membentang hampir  kilometer di sekitar samudra pasifik program ini akan memungkinkan semakin banyak penelitian yang akan dilakukan alumni itn yogyakarta memanfaatkan aktivitas gunung api bagi kemaslahatan kehidupan masyarakat ujar ircham dalam keterangan tertulisnya yang dikutip sabtu  ircham menyebut itn yogyakarta telah mendapat surat keputusan dari kementerian pendidikan kebudayaan riset dan teknologi kemendikbudristek untuk membuka program magister tersebut dia meyakini program ini bisa menarik para mahasiswa yang ingin mendalami ilmu geologi  persen mahasiswa datang ke kampus  persen mengikuti dari rumah target kuliah luring kita menunggu dari dikti  kapan komando itu kita bersiap semuanya ujar ircham sebelumnya ahli gunung api surono mengatakan dengan sekitar  gunung api aktif hingga saat ini masih tidak ada sekolah gunung api di indonesia yang mempelajari vulkanologi secara menyeluruh padahal menurutnya indonesia dapat menjadi center of excellence atau pusat studi kegunungapian ada sekolah yang mempelajari gunung api tapi secara parsial tidak ada sekolah yang mempelajari tentang gunung api itu sendiri padahal indonesia salah satu yang memiliki gunung api terbanyak di dunia ujarnya beberapa waktu lalu mantan kepala pvmbg kementerian esdm ini menuturkan belajar dan riset tentang gunung api di indonesia penting agar kelak dapat difokuskan untuk mitigasi bencana terkait gunung api menurut pria yang dikenal dengan panggilan mbah rono ini mengatakan banyaknya gunung api aktif di indonesia berpotensi pada berulangnya bencana yang sama dengan yang terjadi tahun ini di masa mendatang adapun wakil rektor iii itn yogyakarta hill gendoet hartono menambahkan proses pembukaan jenjang magister ini mengalami tahapan yang cukup panjang bahkan sudah direncanakan sejak tahun  dan baru memenuhi seluruh persyaratan di tahun  selanjutnya disahkan oleh ditjen pendidikan tinggi pada\n"
          ]
        }
      ],
      "source": [
        "raw_sample = data['Article Content'].iloc[1]\n",
        "case_folding = casefolding(raw_sample)\n",
        "\n",
        "print('Raw data\\t: ', raw_sample)\n",
        "print('\\n\\nCase folding\\t: ', case_folding)"
      ]
    },
    {
      "cell_type": "markdown",
      "id": "02e26dae",
      "metadata": {
        "id": "02e26dae"
      },
      "source": [
        "## Filtering (Stopword Removal)"
      ]
    },
    {
      "cell_type": "code",
      "source": [
        "import nltk\n",
        "nltk.download('stopwords')"
      ],
      "metadata": {
        "colab": {
          "base_uri": "https://localhost:8080/"
        },
        "id": "CE62DwkiNy_X",
        "outputId": "10803bf8-8298-4bd8-e2f2-98aea8785130"
      },
      "id": "CE62DwkiNy_X",
      "execution_count": null,
      "outputs": [
        {
          "output_type": "stream",
          "name": "stderr",
          "text": [
            "[nltk_data] Downloading package stopwords to /root/nltk_data...\n",
            "[nltk_data]   Unzipping corpora/stopwords.zip.\n"
          ]
        },
        {
          "output_type": "execute_result",
          "data": {
            "text/plain": [
              "True"
            ]
          },
          "metadata": {},
          "execution_count": 7
        }
      ]
    },
    {
      "cell_type": "code",
      "execution_count": null,
      "id": "94ffd835",
      "metadata": {
        "id": "94ffd835"
      },
      "outputs": [],
      "source": [
        "from nltk.tokenize import sent_tokenize, word_tokenize\n",
        "from nltk.corpus import stopwords\n",
        "\n",
        "stopwords_ind = stopwords.words('indonesian')"
      ]
    },
    {
      "cell_type": "code",
      "execution_count": null,
      "id": "23cf6688",
      "metadata": {
        "id": "23cf6688",
        "outputId": "d22fd765-d260-4b4e-bf96-2d8577179b13",
        "colab": {
          "base_uri": "https://localhost:8080/"
        }
      },
      "outputs": [
        {
          "output_type": "execute_result",
          "data": {
            "text/plain": [
              "758"
            ]
          },
          "metadata": {},
          "execution_count": 9
        }
      ],
      "source": [
        "len(stopwords_ind)"
      ]
    },
    {
      "cell_type": "code",
      "execution_count": null,
      "id": "f7994fe0",
      "metadata": {
        "id": "f7994fe0",
        "outputId": "a0e2e5c8-1a39-4380-ea33-35e88fc5904a",
        "colab": {
          "base_uri": "https://localhost:8080/"
        }
      },
      "outputs": [
        {
          "output_type": "execute_result",
          "data": {
            "text/plain": [
              "['ada',\n",
              " 'adalah',\n",
              " 'adanya',\n",
              " 'adapun',\n",
              " 'agak',\n",
              " 'agaknya',\n",
              " 'agar',\n",
              " 'akan',\n",
              " 'akankah',\n",
              " 'akhir',\n",
              " 'akhiri',\n",
              " 'akhirnya',\n",
              " 'aku',\n",
              " 'akulah',\n",
              " 'amat',\n",
              " 'amatlah',\n",
              " 'anda',\n",
              " 'andalah',\n",
              " 'antar',\n",
              " 'antara',\n",
              " 'antaranya',\n",
              " 'apa',\n",
              " 'apaan',\n",
              " 'apabila',\n",
              " 'apakah',\n",
              " 'apalagi',\n",
              " 'apatah',\n",
              " 'artinya',\n",
              " 'asal',\n",
              " 'asalkan',\n",
              " 'atas',\n",
              " 'atau',\n",
              " 'ataukah',\n",
              " 'ataupun',\n",
              " 'awal',\n",
              " 'awalnya',\n",
              " 'bagai',\n",
              " 'bagaikan',\n",
              " 'bagaimana',\n",
              " 'bagaimanakah',\n",
              " 'bagaimanapun',\n",
              " 'bagi',\n",
              " 'bagian',\n",
              " 'bahkan',\n",
              " 'bahwa',\n",
              " 'bahwasanya',\n",
              " 'baik',\n",
              " 'bakal',\n",
              " 'bakalan',\n",
              " 'balik',\n",
              " 'banyak',\n",
              " 'bapak',\n",
              " 'baru',\n",
              " 'bawah',\n",
              " 'beberapa',\n",
              " 'begini',\n",
              " 'beginian',\n",
              " 'beginikah',\n",
              " 'beginilah',\n",
              " 'begitu',\n",
              " 'begitukah',\n",
              " 'begitulah',\n",
              " 'begitupun',\n",
              " 'bekerja',\n",
              " 'belakang',\n",
              " 'belakangan',\n",
              " 'belum',\n",
              " 'belumlah',\n",
              " 'benar',\n",
              " 'benarkah',\n",
              " 'benarlah',\n",
              " 'berada',\n",
              " 'berakhir',\n",
              " 'berakhirlah',\n",
              " 'berakhirnya',\n",
              " 'berapa',\n",
              " 'berapakah',\n",
              " 'berapalah',\n",
              " 'berapapun',\n",
              " 'berarti',\n",
              " 'berawal',\n",
              " 'berbagai',\n",
              " 'berdatangan',\n",
              " 'beri',\n",
              " 'berikan',\n",
              " 'berikut',\n",
              " 'berikutnya',\n",
              " 'berjumlah',\n",
              " 'berkali-kali',\n",
              " 'berkata',\n",
              " 'berkehendak',\n",
              " 'berkeinginan',\n",
              " 'berkenaan',\n",
              " 'berlainan',\n",
              " 'berlalu',\n",
              " 'berlangsung',\n",
              " 'berlebihan',\n",
              " 'bermacam',\n",
              " 'bermacam-macam',\n",
              " 'bermaksud',\n",
              " 'bermula',\n",
              " 'bersama',\n",
              " 'bersama-sama',\n",
              " 'bersiap',\n",
              " 'bersiap-siap',\n",
              " 'bertanya',\n",
              " 'bertanya-tanya',\n",
              " 'berturut',\n",
              " 'berturut-turut',\n",
              " 'bertutur',\n",
              " 'berujar',\n",
              " 'berupa',\n",
              " 'besar',\n",
              " 'betul',\n",
              " 'betulkah',\n",
              " 'biasa',\n",
              " 'biasanya',\n",
              " 'bila',\n",
              " 'bilakah',\n",
              " 'bisa',\n",
              " 'bisakah',\n",
              " 'boleh',\n",
              " 'bolehkah',\n",
              " 'bolehlah',\n",
              " 'buat',\n",
              " 'bukan',\n",
              " 'bukankah',\n",
              " 'bukanlah',\n",
              " 'bukannya',\n",
              " 'bulan',\n",
              " 'bung',\n",
              " 'cara',\n",
              " 'caranya',\n",
              " 'cukup',\n",
              " 'cukupkah',\n",
              " 'cukuplah',\n",
              " 'cuma',\n",
              " 'dahulu',\n",
              " 'dalam',\n",
              " 'dan',\n",
              " 'dapat',\n",
              " 'dari',\n",
              " 'daripada',\n",
              " 'datang',\n",
              " 'dekat',\n",
              " 'demi',\n",
              " 'demikian',\n",
              " 'demikianlah',\n",
              " 'dengan',\n",
              " 'depan',\n",
              " 'di',\n",
              " 'dia',\n",
              " 'diakhiri',\n",
              " 'diakhirinya',\n",
              " 'dialah',\n",
              " 'diantara',\n",
              " 'diantaranya',\n",
              " 'diberi',\n",
              " 'diberikan',\n",
              " 'diberikannya',\n",
              " 'dibuat',\n",
              " 'dibuatnya',\n",
              " 'didapat',\n",
              " 'didatangkan',\n",
              " 'digunakan',\n",
              " 'diibaratkan',\n",
              " 'diibaratkannya',\n",
              " 'diingat',\n",
              " 'diingatkan',\n",
              " 'diinginkan',\n",
              " 'dijawab',\n",
              " 'dijelaskan',\n",
              " 'dijelaskannya',\n",
              " 'dikarenakan',\n",
              " 'dikatakan',\n",
              " 'dikatakannya',\n",
              " 'dikerjakan',\n",
              " 'diketahui',\n",
              " 'diketahuinya',\n",
              " 'dikira',\n",
              " 'dilakukan',\n",
              " 'dilalui',\n",
              " 'dilihat',\n",
              " 'dimaksud',\n",
              " 'dimaksudkan',\n",
              " 'dimaksudkannya',\n",
              " 'dimaksudnya',\n",
              " 'diminta',\n",
              " 'dimintai',\n",
              " 'dimisalkan',\n",
              " 'dimulai',\n",
              " 'dimulailah',\n",
              " 'dimulainya',\n",
              " 'dimungkinkan',\n",
              " 'dini',\n",
              " 'dipastikan',\n",
              " 'diperbuat',\n",
              " 'diperbuatnya',\n",
              " 'dipergunakan',\n",
              " 'diperkirakan',\n",
              " 'diperlihatkan',\n",
              " 'diperlukan',\n",
              " 'diperlukannya',\n",
              " 'dipersoalkan',\n",
              " 'dipertanyakan',\n",
              " 'dipunyai',\n",
              " 'diri',\n",
              " 'dirinya',\n",
              " 'disampaikan',\n",
              " 'disebut',\n",
              " 'disebutkan',\n",
              " 'disebutkannya',\n",
              " 'disini',\n",
              " 'disinilah',\n",
              " 'ditambahkan',\n",
              " 'ditandaskan',\n",
              " 'ditanya',\n",
              " 'ditanyai',\n",
              " 'ditanyakan',\n",
              " 'ditegaskan',\n",
              " 'ditujukan',\n",
              " 'ditunjuk',\n",
              " 'ditunjuki',\n",
              " 'ditunjukkan',\n",
              " 'ditunjukkannya',\n",
              " 'ditunjuknya',\n",
              " 'dituturkan',\n",
              " 'dituturkannya',\n",
              " 'diucapkan',\n",
              " 'diucapkannya',\n",
              " 'diungkapkan',\n",
              " 'dong',\n",
              " 'dua',\n",
              " 'dulu',\n",
              " 'empat',\n",
              " 'enggak',\n",
              " 'enggaknya',\n",
              " 'entah',\n",
              " 'entahlah',\n",
              " 'guna',\n",
              " 'gunakan',\n",
              " 'hal',\n",
              " 'hampir',\n",
              " 'hanya',\n",
              " 'hanyalah',\n",
              " 'hari',\n",
              " 'harus',\n",
              " 'haruslah',\n",
              " 'harusnya',\n",
              " 'hendak',\n",
              " 'hendaklah',\n",
              " 'hendaknya',\n",
              " 'hingga',\n",
              " 'ia',\n",
              " 'ialah',\n",
              " 'ibarat',\n",
              " 'ibaratkan',\n",
              " 'ibaratnya',\n",
              " 'ibu',\n",
              " 'ikut',\n",
              " 'ingat',\n",
              " 'ingat-ingat',\n",
              " 'ingin',\n",
              " 'inginkah',\n",
              " 'inginkan',\n",
              " 'ini',\n",
              " 'inikah',\n",
              " 'inilah',\n",
              " 'itu',\n",
              " 'itukah',\n",
              " 'itulah',\n",
              " 'jadi',\n",
              " 'jadilah',\n",
              " 'jadinya',\n",
              " 'jangan',\n",
              " 'jangankan',\n",
              " 'janganlah',\n",
              " 'jauh',\n",
              " 'jawab',\n",
              " 'jawaban',\n",
              " 'jawabnya',\n",
              " 'jelas',\n",
              " 'jelaskan',\n",
              " 'jelaslah',\n",
              " 'jelasnya',\n",
              " 'jika',\n",
              " 'jikalau',\n",
              " 'juga',\n",
              " 'jumlah',\n",
              " 'jumlahnya',\n",
              " 'justru',\n",
              " 'kala',\n",
              " 'kalau',\n",
              " 'kalaulah',\n",
              " 'kalaupun',\n",
              " 'kalian',\n",
              " 'kami',\n",
              " 'kamilah',\n",
              " 'kamu',\n",
              " 'kamulah',\n",
              " 'kan',\n",
              " 'kapan',\n",
              " 'kapankah',\n",
              " 'kapanpun',\n",
              " 'karena',\n",
              " 'karenanya',\n",
              " 'kasus',\n",
              " 'kata',\n",
              " 'katakan',\n",
              " 'katakanlah',\n",
              " 'katanya',\n",
              " 'ke',\n",
              " 'keadaan',\n",
              " 'kebetulan',\n",
              " 'kecil',\n",
              " 'kedua',\n",
              " 'keduanya',\n",
              " 'keinginan',\n",
              " 'kelamaan',\n",
              " 'kelihatan',\n",
              " 'kelihatannya',\n",
              " 'kelima',\n",
              " 'keluar',\n",
              " 'kembali',\n",
              " 'kemudian',\n",
              " 'kemungkinan',\n",
              " 'kemungkinannya',\n",
              " 'kenapa',\n",
              " 'kepada',\n",
              " 'kepadanya',\n",
              " 'kesampaian',\n",
              " 'keseluruhan',\n",
              " 'keseluruhannya',\n",
              " 'keterlaluan',\n",
              " 'ketika',\n",
              " 'khususnya',\n",
              " 'kini',\n",
              " 'kinilah',\n",
              " 'kira',\n",
              " 'kira-kira',\n",
              " 'kiranya',\n",
              " 'kita',\n",
              " 'kitalah',\n",
              " 'kok',\n",
              " 'kurang',\n",
              " 'lagi',\n",
              " 'lagian',\n",
              " 'lah',\n",
              " 'lain',\n",
              " 'lainnya',\n",
              " 'lalu',\n",
              " 'lama',\n",
              " 'lamanya',\n",
              " 'lanjut',\n",
              " 'lanjutnya',\n",
              " 'lebih',\n",
              " 'lewat',\n",
              " 'lima',\n",
              " 'luar',\n",
              " 'macam',\n",
              " 'maka',\n",
              " 'makanya',\n",
              " 'makin',\n",
              " 'malah',\n",
              " 'malahan',\n",
              " 'mampu',\n",
              " 'mampukah',\n",
              " 'mana',\n",
              " 'manakala',\n",
              " 'manalagi',\n",
              " 'masa',\n",
              " 'masalah',\n",
              " 'masalahnya',\n",
              " 'masih',\n",
              " 'masihkah',\n",
              " 'masing',\n",
              " 'masing-masing',\n",
              " 'mau',\n",
              " 'maupun',\n",
              " 'melainkan',\n",
              " 'melakukan',\n",
              " 'melalui',\n",
              " 'melihat',\n",
              " 'melihatnya',\n",
              " 'memang',\n",
              " 'memastikan',\n",
              " 'memberi',\n",
              " 'memberikan',\n",
              " 'membuat',\n",
              " 'memerlukan',\n",
              " 'memihak',\n",
              " 'meminta',\n",
              " 'memintakan',\n",
              " 'memisalkan',\n",
              " 'memperbuat',\n",
              " 'mempergunakan',\n",
              " 'memperkirakan',\n",
              " 'memperlihatkan',\n",
              " 'mempersiapkan',\n",
              " 'mempersoalkan',\n",
              " 'mempertanyakan',\n",
              " 'mempunyai',\n",
              " 'memulai',\n",
              " 'memungkinkan',\n",
              " 'menaiki',\n",
              " 'menambahkan',\n",
              " 'menandaskan',\n",
              " 'menanti',\n",
              " 'menanti-nanti',\n",
              " 'menantikan',\n",
              " 'menanya',\n",
              " 'menanyai',\n",
              " 'menanyakan',\n",
              " 'mendapat',\n",
              " 'mendapatkan',\n",
              " 'mendatang',\n",
              " 'mendatangi',\n",
              " 'mendatangkan',\n",
              " 'menegaskan',\n",
              " 'mengakhiri',\n",
              " 'mengapa',\n",
              " 'mengatakan',\n",
              " 'mengatakannya',\n",
              " 'mengenai',\n",
              " 'mengerjakan',\n",
              " 'mengetahui',\n",
              " 'menggunakan',\n",
              " 'menghendaki',\n",
              " 'mengibaratkan',\n",
              " 'mengibaratkannya',\n",
              " 'mengingat',\n",
              " 'mengingatkan',\n",
              " 'menginginkan',\n",
              " 'mengira',\n",
              " 'mengucapkan',\n",
              " 'mengucapkannya',\n",
              " 'mengungkapkan',\n",
              " 'menjadi',\n",
              " 'menjawab',\n",
              " 'menjelaskan',\n",
              " 'menuju',\n",
              " 'menunjuk',\n",
              " 'menunjuki',\n",
              " 'menunjukkan',\n",
              " 'menunjuknya',\n",
              " 'menurut',\n",
              " 'menuturkan',\n",
              " 'menyampaikan',\n",
              " 'menyangkut',\n",
              " 'menyatakan',\n",
              " 'menyebutkan',\n",
              " 'menyeluruh',\n",
              " 'menyiapkan',\n",
              " 'merasa',\n",
              " 'mereka',\n",
              " 'merekalah',\n",
              " 'merupakan',\n",
              " 'meski',\n",
              " 'meskipun',\n",
              " 'meyakini',\n",
              " 'meyakinkan',\n",
              " 'minta',\n",
              " 'mirip',\n",
              " 'misal',\n",
              " 'misalkan',\n",
              " 'misalnya',\n",
              " 'mula',\n",
              " 'mulai',\n",
              " 'mulailah',\n",
              " 'mulanya',\n",
              " 'mungkin',\n",
              " 'mungkinkah',\n",
              " 'nah',\n",
              " 'naik',\n",
              " 'namun',\n",
              " 'nanti',\n",
              " 'nantinya',\n",
              " 'nyaris',\n",
              " 'nyatanya',\n",
              " 'oleh',\n",
              " 'olehnya',\n",
              " 'pada',\n",
              " 'padahal',\n",
              " 'padanya',\n",
              " 'pak',\n",
              " 'paling',\n",
              " 'panjang',\n",
              " 'pantas',\n",
              " 'para',\n",
              " 'pasti',\n",
              " 'pastilah',\n",
              " 'penting',\n",
              " 'pentingnya',\n",
              " 'per',\n",
              " 'percuma',\n",
              " 'perlu',\n",
              " 'perlukah',\n",
              " 'perlunya',\n",
              " 'pernah',\n",
              " 'persoalan',\n",
              " 'pertama',\n",
              " 'pertama-tama',\n",
              " 'pertanyaan',\n",
              " 'pertanyakan',\n",
              " 'pihak',\n",
              " 'pihaknya',\n",
              " 'pukul',\n",
              " 'pula',\n",
              " 'pun',\n",
              " 'punya',\n",
              " 'rasa',\n",
              " 'rasanya',\n",
              " 'rata',\n",
              " 'rupanya',\n",
              " 'saat',\n",
              " 'saatnya',\n",
              " 'saja',\n",
              " 'sajalah',\n",
              " 'saling',\n",
              " 'sama',\n",
              " 'sama-sama',\n",
              " 'sambil',\n",
              " 'sampai',\n",
              " 'sampai-sampai',\n",
              " 'sampaikan',\n",
              " 'sana',\n",
              " 'sangat',\n",
              " 'sangatlah',\n",
              " 'satu',\n",
              " 'saya',\n",
              " 'sayalah',\n",
              " 'se',\n",
              " 'sebab',\n",
              " 'sebabnya',\n",
              " 'sebagai',\n",
              " 'sebagaimana',\n",
              " 'sebagainya',\n",
              " 'sebagian',\n",
              " 'sebaik',\n",
              " 'sebaik-baiknya',\n",
              " 'sebaiknya',\n",
              " 'sebaliknya',\n",
              " 'sebanyak',\n",
              " 'sebegini',\n",
              " 'sebegitu',\n",
              " 'sebelum',\n",
              " 'sebelumnya',\n",
              " 'sebenarnya',\n",
              " 'seberapa',\n",
              " 'sebesar',\n",
              " 'sebetulnya',\n",
              " 'sebisanya',\n",
              " 'sebuah',\n",
              " 'sebut',\n",
              " 'sebutlah',\n",
              " 'sebutnya',\n",
              " 'secara',\n",
              " 'secukupnya',\n",
              " 'sedang',\n",
              " 'sedangkan',\n",
              " 'sedemikian',\n",
              " 'sedikit',\n",
              " 'sedikitnya',\n",
              " 'seenaknya',\n",
              " 'segala',\n",
              " 'segalanya',\n",
              " 'segera',\n",
              " 'seharusnya',\n",
              " 'sehingga',\n",
              " 'seingat',\n",
              " 'sejak',\n",
              " 'sejauh',\n",
              " 'sejenak',\n",
              " 'sejumlah',\n",
              " 'sekadar',\n",
              " 'sekadarnya',\n",
              " 'sekali',\n",
              " 'sekali-kali',\n",
              " 'sekalian',\n",
              " 'sekaligus',\n",
              " 'sekalipun',\n",
              " 'sekarang',\n",
              " 'sekarang',\n",
              " 'sekecil',\n",
              " 'seketika',\n",
              " 'sekiranya',\n",
              " 'sekitar',\n",
              " 'sekitarnya',\n",
              " 'sekurang-kurangnya',\n",
              " 'sekurangnya',\n",
              " 'sela',\n",
              " 'selain',\n",
              " 'selaku',\n",
              " 'selalu',\n",
              " 'selama',\n",
              " 'selama-lamanya',\n",
              " 'selamanya',\n",
              " 'selanjutnya',\n",
              " 'seluruh',\n",
              " 'seluruhnya',\n",
              " 'semacam',\n",
              " 'semakin',\n",
              " 'semampu',\n",
              " 'semampunya',\n",
              " 'semasa',\n",
              " 'semasih',\n",
              " 'semata',\n",
              " 'semata-mata',\n",
              " 'semaunya',\n",
              " 'sementara',\n",
              " 'semisal',\n",
              " 'semisalnya',\n",
              " 'sempat',\n",
              " 'semua',\n",
              " 'semuanya',\n",
              " 'semula',\n",
              " 'sendiri',\n",
              " 'sendirian',\n",
              " 'sendirinya',\n",
              " 'seolah',\n",
              " 'seolah-olah',\n",
              " 'seorang',\n",
              " 'sepanjang',\n",
              " 'sepantasnya',\n",
              " 'sepantasnyalah',\n",
              " 'seperlunya',\n",
              " 'seperti',\n",
              " 'sepertinya',\n",
              " 'sepihak',\n",
              " 'sering',\n",
              " 'seringnya',\n",
              " 'serta',\n",
              " 'serupa',\n",
              " 'sesaat',\n",
              " 'sesama',\n",
              " 'sesampai',\n",
              " 'sesegera',\n",
              " 'sesekali',\n",
              " 'seseorang',\n",
              " 'sesuatu',\n",
              " 'sesuatunya',\n",
              " 'sesudah',\n",
              " 'sesudahnya',\n",
              " 'setelah',\n",
              " 'setempat',\n",
              " 'setengah',\n",
              " 'seterusnya',\n",
              " 'setiap',\n",
              " 'setiba',\n",
              " 'setibanya',\n",
              " 'setidak-tidaknya',\n",
              " 'setidaknya',\n",
              " 'setinggi',\n",
              " 'seusai',\n",
              " 'sewaktu',\n",
              " 'siap',\n",
              " 'siapa',\n",
              " 'siapakah',\n",
              " 'siapapun',\n",
              " 'sini',\n",
              " 'sinilah',\n",
              " 'soal',\n",
              " 'soalnya',\n",
              " 'suatu',\n",
              " 'sudah',\n",
              " 'sudahkah',\n",
              " 'sudahlah',\n",
              " 'supaya',\n",
              " 'tadi',\n",
              " 'tadinya',\n",
              " 'tahu',\n",
              " 'tahun',\n",
              " 'tak',\n",
              " 'tambah',\n",
              " 'tambahnya',\n",
              " 'tampak',\n",
              " 'tampaknya',\n",
              " 'tandas',\n",
              " 'tandasnya',\n",
              " 'tanpa',\n",
              " 'tanya',\n",
              " 'tanyakan',\n",
              " 'tanyanya',\n",
              " 'tapi',\n",
              " 'tegas',\n",
              " 'tegasnya',\n",
              " 'telah',\n",
              " 'tempat',\n",
              " 'tengah',\n",
              " 'tentang',\n",
              " 'tentu',\n",
              " 'tentulah',\n",
              " 'tentunya',\n",
              " 'tepat',\n",
              " 'terakhir',\n",
              " 'terasa',\n",
              " 'terbanyak',\n",
              " 'terdahulu',\n",
              " 'terdapat',\n",
              " 'terdiri',\n",
              " 'terhadap',\n",
              " 'terhadapnya',\n",
              " 'teringat',\n",
              " 'teringat-ingat',\n",
              " 'terjadi',\n",
              " 'terjadilah',\n",
              " 'terjadinya',\n",
              " 'terkira',\n",
              " 'terlalu',\n",
              " 'terlebih',\n",
              " 'terlihat',\n",
              " 'termasuk',\n",
              " 'ternyata',\n",
              " 'tersampaikan',\n",
              " 'tersebut',\n",
              " 'tersebutlah',\n",
              " 'tertentu',\n",
              " 'tertuju',\n",
              " 'terus',\n",
              " 'terutama',\n",
              " 'tetap',\n",
              " 'tetapi',\n",
              " 'tiap',\n",
              " 'tiba',\n",
              " 'tiba-tiba',\n",
              " 'tidak',\n",
              " 'tidakkah',\n",
              " 'tidaklah',\n",
              " 'tiga',\n",
              " 'tinggi',\n",
              " 'toh',\n",
              " 'tunjuk',\n",
              " 'turut',\n",
              " 'tutur',\n",
              " 'tuturnya',\n",
              " 'ucap',\n",
              " 'ucapnya',\n",
              " 'ujar',\n",
              " 'ujarnya',\n",
              " 'umum',\n",
              " 'umumnya',\n",
              " 'ungkap',\n",
              " 'ungkapnya',\n",
              " 'untuk',\n",
              " 'usah',\n",
              " 'usai',\n",
              " 'waduh',\n",
              " 'wah',\n",
              " 'wahai',\n",
              " 'waktu',\n",
              " 'waktunya',\n",
              " 'walau',\n",
              " 'walaupun',\n",
              " 'wong',\n",
              " 'yaitu',\n",
              " 'yakin',\n",
              " 'yakni',\n",
              " 'yang']"
            ]
          },
          "metadata": {},
          "execution_count": 10
        }
      ],
      "source": [
        "# Lihat daftar stopword yang disediakan NLTK\n",
        "stopwords_ind"
      ]
    },
    {
      "cell_type": "code",
      "execution_count": null,
      "id": "bdb02914",
      "metadata": {
        "id": "bdb02914"
      },
      "outputs": [],
      "source": [
        "# Buat fungsi untuk langkah stopword removal\n",
        "\n",
        "more_stopword = ['national', 'oceanic']                    # Tambahkan kata dalam daftar stopword\n",
        "stopwords_ind = stopwords_ind + more_stopword\n",
        "\n",
        "def remove_stop_words(text):\n",
        "    clean_words = []\n",
        "    text = text.split()\n",
        "    for word in text:\n",
        "        if word not in stopwords_ind:\n",
        "            clean_words.append(word)\n",
        "    return \" \".join(clean_words)"
      ]
    },
    {
      "cell_type": "code",
      "source": [
        "remove_stop_words(case_folding)"
      ],
      "metadata": {
        "colab": {
          "base_uri": "https://localhost:8080/",
          "height": 174
        },
        "id": "lx7EaFvnGQ-h",
        "outputId": "6f3de13b-6855-4b7f-96a7-089d66d31f43"
      },
      "id": "lx7EaFvnGQ-h",
      "execution_count": null,
      "outputs": [
        {
          "output_type": "execute_result",
          "data": {
            "text/plain": [
              "'institut teknologi nasional itn yogyakarta membuka magister teknik geologi program unggulan kegunungapian program meningkatkan ahli melalukan penelitian terkait aktivitas gunung api rektor itn yogyakarta dr ir ircham mt indonesia negara kepulauan geografis terletak kawasan kawasan ring of fire cincin api pasifik and atmospheric administration noaa cincin api serangkaian gunung berapi membentang kilometer samudra pasifik program penelitian alumni itn yogyakarta memanfaatkan aktivitas gunung api kemaslahatan kehidupan masyarakat ircham keterangan tertulisnya dikutip sabtu ircham menyebut itn yogyakarta surat keputusan kementerian pendidikan kebudayaan riset teknologi kemendikbudristek membuka program magister program menarik mahasiswa mendalami ilmu geologi persen mahasiswa kampus persen mengikuti rumah target kuliah luring menunggu dikti komando ircham ahli gunung api surono gunung api aktif sekolah gunung api indonesia mempelajari vulkanologi menurutnya indonesia center of excellence pusat studi kegunungapian sekolah mempelajari gunung api parsial sekolah mempelajari gunung api indonesia salah memiliki gunung api dunia mantan kepala pvmbg kementerian esdm belajar riset gunung api indonesia kelak difokuskan mitigasi bencana terkait gunung api pria dikenal panggilan mbah rono banyaknya gunung api aktif indonesia berpotensi berulangnya bencana wakil rektor iii itn yogyakarta hill gendoet hartono proses pembukaan jenjang magister mengalami tahapan direncanakan memenuhi persyaratan disahkan ditjen pendidikan'"
            ],
            "application/vnd.google.colaboratory.intrinsic+json": {
              "type": "string"
            }
          },
          "metadata": {},
          "execution_count": 12
        }
      ]
    },
    {
      "cell_type": "code",
      "execution_count": null,
      "id": "8c05aec7",
      "metadata": {
        "id": "8c05aec7",
        "outputId": "1705b60e-95e1-4dcd-c058-1257d7eb7c7d",
        "colab": {
          "base_uri": "https://localhost:8080/"
        }
      },
      "outputs": [
        {
          "output_type": "stream",
          "name": "stdout",
          "text": [
            "Raw data\t:  Indonesia memiliki jam sekolah yang cukup panjang yaitu dimulai dari jam 7 pagi hingga jam 2 siang. Selain itu juga memiliki kegiatan yang cukup padat dan waktu istirahat yang pendek ditambah dengan adanya tambahan pekerjaan rumah untuk para siswa. Namun di beberapa negara menerapkan jam sekolah yang pendek. Di mana saja itu? Berikut penjelasannya yang dikutip oleh Insider: Menurut penelitian dari Pew Research Center, siswa sekolah dasar di Rusia bersekolah selama 470 jam di kelas selama satu tahun ajaran. Di Rusia waktu yang liburan juga cukup panjang, minimal pelajar Rusia libur selama empat bulan. Siswa di Rusia bersekolah lima hari seminggu dan biasanya mulai sekitar jam 8 pagi dan berakhir sekitar jam 1 atau 2 siang, Walaupun memiliki jam sekolah yang pendek, hal tersebut tidak berarti mereka belajar lebih sedikit. Sebanyak 99,7% orang berusia 15 tahun ke atas dapat membaca dan menulis di Rusia. Jam sekolah di Finlandia juga pendek. Siswa di Finlandia datang ke sekolah pada pukul 8 dan 9 pagi dan berakhir pada pukul 1-2 siang. Setiap 45 menit belajar, siswa mendapatkan 15 menit waktu istirahat. Kerennya, siswa Finlandia menempati peringkat nomor dua di antara negara-negara lain dalam membaca, matematika, dan sains. Siswa di Islandia menghadiri sekolah hanya 170 hari selama setahun. Para siswa tetap datang ke sekolah 5 kali sehari. Siswa Islandia menempati urutan ke-13 untuk membaca, matematika, dan sains jika dibandingkan dengan 64 negara lain di seluruh dunia, menurut Organisasi untuk Kerjasama dan Pembangunan Ekonomi. Siswa di Irlandia menghadiri sekolah selama 183 hari selama setahun. Sedangkan untuk anak TK menjadi 167 hari selama setahun. Siswa di Irlandia berada di peringkat 17 dari 65 negara dalam hal membaca, matematika, dan sains, menurut Organisasi untuk Kerjasama dan Pembangunan Ekonomi. Para siswa menghabiskan selama 5 jam 40 menit untuk bersekolah termasuk makan siang dan istirahat. Itulah deretan negara dengan jam sekolah terpendek. Tertarik bersekolah di sana detikers?\n",
            "\n",
            "\n",
            "Case folding\t:  indonesia memiliki jam sekolah yang cukup panjang yaitu dimulai dari jam  pagi hingga jam  siang selain itu juga memiliki kegiatan yang cukup padat dan waktu istirahat yang pendek ditambah dengan adanya tambahan pekerjaan rumah untuk para siswa namun di beberapa negara menerapkan jam sekolah yang pendek di mana saja itu berikut penjelasannya yang dikutip oleh insider menurut penelitian dari pew research center siswa sekolah dasar di rusia bersekolah selama  jam di kelas selama satu tahun ajaran di rusia waktu yang liburan juga cukup panjang minimal pelajar rusia libur selama empat bulan siswa di rusia bersekolah lima hari seminggu dan biasanya mulai sekitar jam  pagi dan berakhir sekitar jam  atau  siang walaupun memiliki jam sekolah yang pendek hal tersebut tidak berarti mereka belajar lebih sedikit sebanyak  orang berusia  tahun ke atas dapat membaca dan menulis di rusia jam sekolah di finlandia juga pendek siswa di finlandia datang ke sekolah pada pukul  dan  pagi dan berakhir pada pukul  siang setiap  menit belajar siswa mendapatkan  menit waktu istirahat kerennya siswa finlandia menempati peringkat nomor dua di antara negaranegara lain dalam membaca matematika dan sains siswa di islandia menghadiri sekolah hanya  hari selama setahun para siswa tetap datang ke sekolah  kali sehari siswa islandia menempati urutan ke untuk membaca matematika dan sains jika dibandingkan dengan  negara lain di seluruh dunia menurut organisasi untuk kerjasama dan pembangunan ekonomi siswa di irlandia menghadiri sekolah selama  hari selama setahun sedangkan untuk anak tk menjadi  hari selama setahun siswa di irlandia berada di peringkat  dari  negara dalam hal membaca matematika dan sains menurut organisasi untuk kerjasama dan pembangunan ekonomi para siswa menghabiskan selama  jam  menit untuk bersekolah termasuk makan siang dan istirahat itulah deretan negara dengan jam sekolah terpendek tertarik bersekolah di sana detikers\n",
            "\n",
            "\n",
            "Stopword removal\t:  indonesia memiliki jam sekolah jam pagi jam siang memiliki kegiatan padat istirahat pendek ditambah tambahan pekerjaan rumah siswa negara menerapkan jam sekolah pendek penjelasannya dikutip insider penelitian pew research center siswa sekolah dasar rusia bersekolah jam kelas ajaran rusia liburan minimal pelajar rusia libur siswa rusia bersekolah seminggu jam pagi jam siang memiliki jam sekolah pendek belajar orang berusia membaca menulis rusia jam sekolah finlandia pendek siswa finlandia sekolah pagi siang menit belajar siswa menit istirahat kerennya siswa finlandia menempati peringkat nomor negaranegara membaca matematika sains siswa islandia menghadiri sekolah setahun siswa sekolah kali sehari siswa islandia menempati urutan membaca matematika sains dibandingkan negara dunia organisasi kerjasama pembangunan ekonomi siswa irlandia menghadiri sekolah setahun anak tk setahun siswa irlandia peringkat negara membaca matematika sains organisasi kerjasama pembangunan ekonomi siswa menghabiskan jam menit bersekolah makan siang istirahat deretan negara jam sekolah terpendek tertarik bersekolah detikers\n"
          ]
        }
      ],
      "source": [
        "raw_sample = data['Article Content'].iloc[5]\n",
        "case_folding = casefolding(raw_sample)\n",
        "stopword_removal = remove_stop_words(case_folding)\n",
        "\n",
        "print('Raw data\\t: ', raw_sample)\n",
        "print('\\n\\nCase folding\\t: ', case_folding)\n",
        "print('\\n\\nStopword removal\\t: ', stopword_removal)"
      ]
    },
    {
      "cell_type": "code",
      "source": [
        "# Install library Sastrawi\n",
        "!pip -q install sastrawi"
      ],
      "metadata": {
        "id": "bNhlK8bROGT4",
        "colab": {
          "base_uri": "https://localhost:8080/"
        },
        "outputId": "4398ab7b-59b3-4b89-dff7-8c7ef1832f85"
      },
      "id": "bNhlK8bROGT4",
      "execution_count": null,
      "outputs": [
        {
          "output_type": "stream",
          "name": "stdout",
          "text": [
            "\u001b[?25l\r\u001b[K     |█▋                              | 10 kB 19.2 MB/s eta 0:00:01\r\u001b[K     |███▏                            | 20 kB 8.7 MB/s eta 0:00:01\r\u001b[K     |████▊                           | 30 kB 12.1 MB/s eta 0:00:01\r\u001b[K     |██████▎                         | 40 kB 7.6 MB/s eta 0:00:01\r\u001b[K     |███████▉                        | 51 kB 7.7 MB/s eta 0:00:01\r\u001b[K     |█████████▍                      | 61 kB 8.9 MB/s eta 0:00:01\r\u001b[K     |███████████                     | 71 kB 8.8 MB/s eta 0:00:01\r\u001b[K     |████████████▌                   | 81 kB 9.8 MB/s eta 0:00:01\r\u001b[K     |██████████████                  | 92 kB 7.8 MB/s eta 0:00:01\r\u001b[K     |███████████████▋                | 102 kB 8.2 MB/s eta 0:00:01\r\u001b[K     |█████████████████▏              | 112 kB 8.2 MB/s eta 0:00:01\r\u001b[K     |██████████████████▊             | 122 kB 8.2 MB/s eta 0:00:01\r\u001b[K     |████████████████████▎           | 133 kB 8.2 MB/s eta 0:00:01\r\u001b[K     |█████████████████████▉          | 143 kB 8.2 MB/s eta 0:00:01\r\u001b[K     |███████████████████████▍        | 153 kB 8.2 MB/s eta 0:00:01\r\u001b[K     |█████████████████████████       | 163 kB 8.2 MB/s eta 0:00:01\r\u001b[K     |██████████████████████████▋     | 174 kB 8.2 MB/s eta 0:00:01\r\u001b[K     |████████████████████████████▏   | 184 kB 8.2 MB/s eta 0:00:01\r\u001b[K     |█████████████████████████████▊  | 194 kB 8.2 MB/s eta 0:00:01\r\u001b[K     |███████████████████████████████▎| 204 kB 8.2 MB/s eta 0:00:01\r\u001b[K     |████████████████████████████████| 209 kB 8.2 MB/s \n",
            "\u001b[?25h"
          ]
        }
      ]
    },
    {
      "cell_type": "code",
      "source": [
        "from Sastrawi.StopWordRemover.StopWordRemoverFactory import StopWordRemoverFactory\n",
        "stop_factory = StopWordRemoverFactory()\n",
        "len(stop_factory.get_stop_words())"
      ],
      "metadata": {
        "id": "5XtztCiWOEVm",
        "colab": {
          "base_uri": "https://localhost:8080/"
        },
        "outputId": "1b735e90-f7b0-4948-d386-3e149e790d33"
      },
      "id": "5XtztCiWOEVm",
      "execution_count": null,
      "outputs": [
        {
          "output_type": "execute_result",
          "data": {
            "text/plain": [
              "126"
            ]
          },
          "metadata": {},
          "execution_count": 15
        }
      ]
    },
    {
      "cell_type": "markdown",
      "id": "9427a173",
      "metadata": {
        "id": "9427a173"
      },
      "source": [
        "## Stemming"
      ]
    },
    {
      "cell_type": "code",
      "execution_count": null,
      "id": "8620fc25",
      "metadata": {
        "id": "8620fc25"
      },
      "outputs": [],
      "source": [
        "from Sastrawi.Stemmer.StemmerFactory import StemmerFactory\n",
        "\n",
        "factory = StemmerFactory()\n",
        "stemmer = factory.create_stemmer()\n",
        "\n",
        "# Buat fungsi untuk langkah stemming bahasa Indonesia\n",
        "def stemming(text):\n",
        "    text = stemmer.stem(text)\n",
        "    return text"
      ]
    },
    {
      "cell_type": "code",
      "execution_count": null,
      "id": "7918a328",
      "metadata": {
        "id": "7918a328",
        "outputId": "cfad2910-e53a-4db3-c16c-11df751df839",
        "colab": {
          "base_uri": "https://localhost:8080/"
        }
      },
      "outputs": [
        {
          "output_type": "stream",
          "name": "stdout",
          "text": [
            "Raw data\t:  Indonesia memiliki jam sekolah yang cukup panjang yaitu dimulai dari jam 7 pagi hingga jam 2 siang. Selain itu juga memiliki kegiatan yang cukup padat dan waktu istirahat yang pendek ditambah dengan adanya tambahan pekerjaan rumah untuk para siswa. Namun di beberapa negara menerapkan jam sekolah yang pendek. Di mana saja itu? Berikut penjelasannya yang dikutip oleh Insider: Menurut penelitian dari Pew Research Center, siswa sekolah dasar di Rusia bersekolah selama 470 jam di kelas selama satu tahun ajaran. Di Rusia waktu yang liburan juga cukup panjang, minimal pelajar Rusia libur selama empat bulan. Siswa di Rusia bersekolah lima hari seminggu dan biasanya mulai sekitar jam 8 pagi dan berakhir sekitar jam 1 atau 2 siang, Walaupun memiliki jam sekolah yang pendek, hal tersebut tidak berarti mereka belajar lebih sedikit. Sebanyak 99,7% orang berusia 15 tahun ke atas dapat membaca dan menulis di Rusia. Jam sekolah di Finlandia juga pendek. Siswa di Finlandia datang ke sekolah pada pukul 8 dan 9 pagi dan berakhir pada pukul 1-2 siang. Setiap 45 menit belajar, siswa mendapatkan 15 menit waktu istirahat. Kerennya, siswa Finlandia menempati peringkat nomor dua di antara negara-negara lain dalam membaca, matematika, dan sains. Siswa di Islandia menghadiri sekolah hanya 170 hari selama setahun. Para siswa tetap datang ke sekolah 5 kali sehari. Siswa Islandia menempati urutan ke-13 untuk membaca, matematika, dan sains jika dibandingkan dengan 64 negara lain di seluruh dunia, menurut Organisasi untuk Kerjasama dan Pembangunan Ekonomi. Siswa di Irlandia menghadiri sekolah selama 183 hari selama setahun. Sedangkan untuk anak TK menjadi 167 hari selama setahun. Siswa di Irlandia berada di peringkat 17 dari 65 negara dalam hal membaca, matematika, dan sains, menurut Organisasi untuk Kerjasama dan Pembangunan Ekonomi. Para siswa menghabiskan selama 5 jam 40 menit untuk bersekolah termasuk makan siang dan istirahat. Itulah deretan negara dengan jam sekolah terpendek. Tertarik bersekolah di sana detikers?\n",
            "\n",
            "\n",
            "Case folding\t:  indonesia memiliki jam sekolah yang cukup panjang yaitu dimulai dari jam  pagi hingga jam  siang selain itu juga memiliki kegiatan yang cukup padat dan waktu istirahat yang pendek ditambah dengan adanya tambahan pekerjaan rumah untuk para siswa namun di beberapa negara menerapkan jam sekolah yang pendek di mana saja itu berikut penjelasannya yang dikutip oleh insider menurut penelitian dari pew research center siswa sekolah dasar di rusia bersekolah selama  jam di kelas selama satu tahun ajaran di rusia waktu yang liburan juga cukup panjang minimal pelajar rusia libur selama empat bulan siswa di rusia bersekolah lima hari seminggu dan biasanya mulai sekitar jam  pagi dan berakhir sekitar jam  atau  siang walaupun memiliki jam sekolah yang pendek hal tersebut tidak berarti mereka belajar lebih sedikit sebanyak  orang berusia  tahun ke atas dapat membaca dan menulis di rusia jam sekolah di finlandia juga pendek siswa di finlandia datang ke sekolah pada pukul  dan  pagi dan berakhir pada pukul  siang setiap  menit belajar siswa mendapatkan  menit waktu istirahat kerennya siswa finlandia menempati peringkat nomor dua di antara negaranegara lain dalam membaca matematika dan sains siswa di islandia menghadiri sekolah hanya  hari selama setahun para siswa tetap datang ke sekolah  kali sehari siswa islandia menempati urutan ke untuk membaca matematika dan sains jika dibandingkan dengan  negara lain di seluruh dunia menurut organisasi untuk kerjasama dan pembangunan ekonomi siswa di irlandia menghadiri sekolah selama  hari selama setahun sedangkan untuk anak tk menjadi  hari selama setahun siswa di irlandia berada di peringkat  dari  negara dalam hal membaca matematika dan sains menurut organisasi untuk kerjasama dan pembangunan ekonomi para siswa menghabiskan selama  jam  menit untuk bersekolah termasuk makan siang dan istirahat itulah deretan negara dengan jam sekolah terpendek tertarik bersekolah di sana detikers\n",
            "\n",
            "\n",
            "Stopword removal\t:  indonesia memiliki jam sekolah jam pagi jam siang memiliki kegiatan padat istirahat pendek ditambah tambahan pekerjaan rumah siswa negara menerapkan jam sekolah pendek penjelasannya dikutip insider penelitian pew research center siswa sekolah dasar rusia bersekolah jam kelas ajaran rusia liburan minimal pelajar rusia libur siswa rusia bersekolah seminggu jam pagi jam siang memiliki jam sekolah pendek belajar orang berusia membaca menulis rusia jam sekolah finlandia pendek siswa finlandia sekolah pagi siang menit belajar siswa menit istirahat kerennya siswa finlandia menempati peringkat nomor negaranegara membaca matematika sains siswa islandia menghadiri sekolah setahun siswa sekolah kali sehari siswa islandia menempati urutan membaca matematika sains dibandingkan negara dunia organisasi kerjasama pembangunan ekonomi siswa irlandia menghadiri sekolah setahun anak tk setahun siswa irlandia peringkat negara membaca matematika sains organisasi kerjasama pembangunan ekonomi siswa menghabiskan jam menit bersekolah makan siang istirahat deretan negara jam sekolah terpendek tertarik bersekolah detikers\n",
            "\n",
            "\n",
            "Stemming\t:  indonesia milik jam sekolah jam pagi jam siang milik giat padat istirahat pendek tambah tambah kerja rumah siswa negara terap jam sekolah pendek jelas kutip insider teliti pew research center siswa sekolah dasar rusia sekolah jam kelas ajar rusia libur minimal ajar rusia libur siswa rusia sekolah minggu jam pagi jam siang milik jam sekolah pendek ajar orang usia baca tulis rusia jam sekolah finlandia pendek siswa finlandia sekolah pagi siang menit ajar siswa menit istirahat keren siswa finlandia tempat peringkat nomor negaranegara baca matematika sains siswa islandia hadir sekolah tahun siswa sekolah kali hari siswa islandia tempat urut baca matematika sains banding negara dunia organisasi kerjasama bangun ekonomi siswa irlandia hadir sekolah tahun anak tk tahun siswa irlandia peringkat negara baca matematika sains organisasi kerjasama bangun ekonomi siswa habis jam menit sekolah makan siang istirahat deret negara jam sekolah pendek tarik sekolah detikers\n"
          ]
        }
      ],
      "source": [
        "raw_sample       = data['Article Content'].iloc[5]\n",
        "case_folding     = casefolding(raw_sample)\n",
        "stopword_removal = remove_stop_words(case_folding)\n",
        "text_stemming    = stemming(stopword_removal)\n",
        "\n",
        "print('Raw data\\t: ', raw_sample)\n",
        "print('\\n\\nCase folding\\t: ', case_folding)\n",
        "print('\\n\\nStopword removal\\t: ', stopword_removal)\n",
        "print('\\n\\nStemming\\t: ', text_stemming)"
      ]
    },
    {
      "cell_type": "markdown",
      "source": [
        "## Text Preprocessing Pipeline"
      ],
      "metadata": {
        "id": "2q6Sv7SzeA87"
      },
      "id": "2q6Sv7SzeA87"
    },
    {
      "cell_type": "code",
      "execution_count": null,
      "id": "30830e2b",
      "metadata": {
        "id": "30830e2b"
      },
      "outputs": [],
      "source": [
        "# Buat fungsi untuk menggabungkan seluruh langkah text preprocessing\n",
        "def text_preprocessing_process(text):\n",
        "    text = casefolding(text)\n",
        "    text = remove_stop_words(text)\n",
        "    text = stemming(text)\n",
        "    return text"
      ]
    },
    {
      "cell_type": "code",
      "execution_count": null,
      "id": "deb2d1b0",
      "metadata": {
        "id": "deb2d1b0",
        "colab": {
          "base_uri": "https://localhost:8080/",
          "height": 1000
        },
        "outputId": "ae666160-48ce-4ec8-c06e-85d81d121c30"
      },
      "outputs": [
        {
          "output_type": "stream",
          "name": "stdout",
          "text": [
            "Looking in indexes: https://pypi.org/simple, https://us-python.pkg.dev/colab-wheels/public/simple/\n",
            "Collecting swifter\n",
            "  Downloading swifter-1.3.4.tar.gz (830 kB)\n",
            "\u001b[K     |████████████████████████████████| 830 kB 6.8 MB/s \n",
            "\u001b[?25hRequirement already satisfied: pandas>=1.0.0 in /usr/local/lib/python3.7/dist-packages (from swifter) (1.3.5)\n",
            "Collecting psutil>=5.6.6\n",
            "  Downloading psutil-5.9.2-cp37-cp37m-manylinux_2_12_x86_64.manylinux2010_x86_64.manylinux_2_17_x86_64.manylinux2014_x86_64.whl (281 kB)\n",
            "\u001b[K     |████████████████████████████████| 281 kB 47.0 MB/s \n",
            "\u001b[?25hRequirement already satisfied: dask[dataframe]>=2.10.0 in /usr/local/lib/python3.7/dist-packages (from swifter) (2022.2.0)\n",
            "Requirement already satisfied: tqdm>=4.33.0 in /usr/local/lib/python3.7/dist-packages (from swifter) (4.64.1)\n",
            "Requirement already satisfied: ipywidgets>=7.0.0 in /usr/local/lib/python3.7/dist-packages (from swifter) (7.7.1)\n",
            "Requirement already satisfied: cloudpickle>=0.2.2 in /usr/local/lib/python3.7/dist-packages (from swifter) (1.5.0)\n",
            "Requirement already satisfied: parso>0.4.0 in /usr/local/lib/python3.7/dist-packages (from swifter) (0.8.3)\n",
            "Requirement already satisfied: bleach>=3.1.1 in /usr/local/lib/python3.7/dist-packages (from swifter) (5.0.1)\n",
            "Requirement already satisfied: webencodings in /usr/local/lib/python3.7/dist-packages (from bleach>=3.1.1->swifter) (0.5.1)\n",
            "Requirement already satisfied: six>=1.9.0 in /usr/local/lib/python3.7/dist-packages (from bleach>=3.1.1->swifter) (1.15.0)\n",
            "Requirement already satisfied: fsspec>=0.6.0 in /usr/local/lib/python3.7/dist-packages (from dask[dataframe]>=2.10.0->swifter) (2022.8.2)\n",
            "Requirement already satisfied: toolz>=0.8.2 in /usr/local/lib/python3.7/dist-packages (from dask[dataframe]>=2.10.0->swifter) (0.12.0)\n",
            "Requirement already satisfied: pyyaml>=5.3.1 in /usr/local/lib/python3.7/dist-packages (from dask[dataframe]>=2.10.0->swifter) (6.0)\n",
            "Requirement already satisfied: partd>=0.3.10 in /usr/local/lib/python3.7/dist-packages (from dask[dataframe]>=2.10.0->swifter) (1.3.0)\n",
            "Requirement already satisfied: packaging>=20.0 in /usr/local/lib/python3.7/dist-packages (from dask[dataframe]>=2.10.0->swifter) (21.3)\n",
            "Requirement already satisfied: numpy>=1.18 in /usr/local/lib/python3.7/dist-packages (from dask[dataframe]>=2.10.0->swifter) (1.21.6)\n",
            "Requirement already satisfied: ipython>=4.0.0 in /usr/local/lib/python3.7/dist-packages (from ipywidgets>=7.0.0->swifter) (7.9.0)\n",
            "Requirement already satisfied: widgetsnbextension~=3.6.0 in /usr/local/lib/python3.7/dist-packages (from ipywidgets>=7.0.0->swifter) (3.6.1)\n",
            "Requirement already satisfied: traitlets>=4.3.1 in /usr/local/lib/python3.7/dist-packages (from ipywidgets>=7.0.0->swifter) (5.1.1)\n",
            "Requirement already satisfied: jupyterlab-widgets>=1.0.0 in /usr/local/lib/python3.7/dist-packages (from ipywidgets>=7.0.0->swifter) (3.0.3)\n",
            "Requirement already satisfied: ipykernel>=4.5.1 in /usr/local/lib/python3.7/dist-packages (from ipywidgets>=7.0.0->swifter) (5.3.4)\n",
            "Requirement already satisfied: ipython-genutils~=0.2.0 in /usr/local/lib/python3.7/dist-packages (from ipywidgets>=7.0.0->swifter) (0.2.0)\n",
            "Requirement already satisfied: jupyter-client in /usr/local/lib/python3.7/dist-packages (from ipykernel>=4.5.1->ipywidgets>=7.0.0->swifter) (6.1.12)\n",
            "Requirement already satisfied: tornado>=4.2 in /usr/local/lib/python3.7/dist-packages (from ipykernel>=4.5.1->ipywidgets>=7.0.0->swifter) (5.1.1)\n",
            "Requirement already satisfied: prompt-toolkit<2.1.0,>=2.0.0 in /usr/local/lib/python3.7/dist-packages (from ipython>=4.0.0->ipywidgets>=7.0.0->swifter) (2.0.10)\n",
            "Requirement already satisfied: pickleshare in /usr/local/lib/python3.7/dist-packages (from ipython>=4.0.0->ipywidgets>=7.0.0->swifter) (0.7.5)\n",
            "Requirement already satisfied: decorator in /usr/local/lib/python3.7/dist-packages (from ipython>=4.0.0->ipywidgets>=7.0.0->swifter) (4.4.2)\n",
            "Requirement already satisfied: setuptools>=18.5 in /usr/local/lib/python3.7/dist-packages (from ipython>=4.0.0->ipywidgets>=7.0.0->swifter) (57.4.0)\n",
            "Requirement already satisfied: backcall in /usr/local/lib/python3.7/dist-packages (from ipython>=4.0.0->ipywidgets>=7.0.0->swifter) (0.2.0)\n",
            "Requirement already satisfied: pexpect in /usr/local/lib/python3.7/dist-packages (from ipython>=4.0.0->ipywidgets>=7.0.0->swifter) (4.8.0)\n",
            "Requirement already satisfied: pygments in /usr/local/lib/python3.7/dist-packages (from ipython>=4.0.0->ipywidgets>=7.0.0->swifter) (2.6.1)\n",
            "Collecting jedi>=0.10\n",
            "  Downloading jedi-0.18.1-py2.py3-none-any.whl (1.6 MB)\n",
            "\u001b[K     |████████████████████████████████| 1.6 MB 39.3 MB/s \n",
            "\u001b[?25hRequirement already satisfied: pyparsing!=3.0.5,>=2.0.2 in /usr/local/lib/python3.7/dist-packages (from packaging>=20.0->dask[dataframe]>=2.10.0->swifter) (3.0.9)\n",
            "Requirement already satisfied: python-dateutil>=2.7.3 in /usr/local/lib/python3.7/dist-packages (from pandas>=1.0.0->swifter) (2.8.2)\n",
            "Requirement already satisfied: pytz>=2017.3 in /usr/local/lib/python3.7/dist-packages (from pandas>=1.0.0->swifter) (2022.2.1)\n",
            "Requirement already satisfied: locket in /usr/local/lib/python3.7/dist-packages (from partd>=0.3.10->dask[dataframe]>=2.10.0->swifter) (1.0.0)\n",
            "Requirement already satisfied: wcwidth in /usr/local/lib/python3.7/dist-packages (from prompt-toolkit<2.1.0,>=2.0.0->ipython>=4.0.0->ipywidgets>=7.0.0->swifter) (0.2.5)\n",
            "Requirement already satisfied: notebook>=4.4.1 in /usr/local/lib/python3.7/dist-packages (from widgetsnbextension~=3.6.0->ipywidgets>=7.0.0->swifter) (5.3.1)\n",
            "Requirement already satisfied: Send2Trash in /usr/local/lib/python3.7/dist-packages (from notebook>=4.4.1->widgetsnbextension~=3.6.0->ipywidgets>=7.0.0->swifter) (1.8.0)\n",
            "Requirement already satisfied: jupyter-core>=4.4.0 in /usr/local/lib/python3.7/dist-packages (from notebook>=4.4.1->widgetsnbextension~=3.6.0->ipywidgets>=7.0.0->swifter) (4.11.1)\n",
            "Requirement already satisfied: nbformat in /usr/local/lib/python3.7/dist-packages (from notebook>=4.4.1->widgetsnbextension~=3.6.0->ipywidgets>=7.0.0->swifter) (5.4.0)\n",
            "Requirement already satisfied: nbconvert in /usr/local/lib/python3.7/dist-packages (from notebook>=4.4.1->widgetsnbextension~=3.6.0->ipywidgets>=7.0.0->swifter) (5.6.1)\n",
            "Requirement already satisfied: terminado>=0.8.1 in /usr/local/lib/python3.7/dist-packages (from notebook>=4.4.1->widgetsnbextension~=3.6.0->ipywidgets>=7.0.0->swifter) (0.13.3)\n",
            "Requirement already satisfied: jinja2 in /usr/local/lib/python3.7/dist-packages (from notebook>=4.4.1->widgetsnbextension~=3.6.0->ipywidgets>=7.0.0->swifter) (2.11.3)\n",
            "Requirement already satisfied: pyzmq>=13 in /usr/local/lib/python3.7/dist-packages (from jupyter-client->ipykernel>=4.5.1->ipywidgets>=7.0.0->swifter) (23.2.1)\n",
            "Requirement already satisfied: ptyprocess in /usr/local/lib/python3.7/dist-packages (from terminado>=0.8.1->notebook>=4.4.1->widgetsnbextension~=3.6.0->ipywidgets>=7.0.0->swifter) (0.7.0)\n",
            "Requirement already satisfied: MarkupSafe>=0.23 in /usr/local/lib/python3.7/dist-packages (from jinja2->notebook>=4.4.1->widgetsnbextension~=3.6.0->ipywidgets>=7.0.0->swifter) (2.0.1)\n",
            "Requirement already satisfied: entrypoints>=0.2.2 in /usr/local/lib/python3.7/dist-packages (from nbconvert->notebook>=4.4.1->widgetsnbextension~=3.6.0->ipywidgets>=7.0.0->swifter) (0.4)\n",
            "Requirement already satisfied: testpath in /usr/local/lib/python3.7/dist-packages (from nbconvert->notebook>=4.4.1->widgetsnbextension~=3.6.0->ipywidgets>=7.0.0->swifter) (0.6.0)\n",
            "Requirement already satisfied: defusedxml in /usr/local/lib/python3.7/dist-packages (from nbconvert->notebook>=4.4.1->widgetsnbextension~=3.6.0->ipywidgets>=7.0.0->swifter) (0.7.1)\n",
            "Requirement already satisfied: mistune<2,>=0.8.1 in /usr/local/lib/python3.7/dist-packages (from nbconvert->notebook>=4.4.1->widgetsnbextension~=3.6.0->ipywidgets>=7.0.0->swifter) (0.8.4)\n",
            "Requirement already satisfied: pandocfilters>=1.4.1 in /usr/local/lib/python3.7/dist-packages (from nbconvert->notebook>=4.4.1->widgetsnbextension~=3.6.0->ipywidgets>=7.0.0->swifter) (1.5.0)\n",
            "Requirement already satisfied: fastjsonschema in /usr/local/lib/python3.7/dist-packages (from nbformat->notebook>=4.4.1->widgetsnbextension~=3.6.0->ipywidgets>=7.0.0->swifter) (2.16.1)\n",
            "Requirement already satisfied: jsonschema>=2.6 in /usr/local/lib/python3.7/dist-packages (from nbformat->notebook>=4.4.1->widgetsnbextension~=3.6.0->ipywidgets>=7.0.0->swifter) (4.3.3)\n",
            "Requirement already satisfied: pyrsistent!=0.17.0,!=0.17.1,!=0.17.2,>=0.14.0 in /usr/local/lib/python3.7/dist-packages (from jsonschema>=2.6->nbformat->notebook>=4.4.1->widgetsnbextension~=3.6.0->ipywidgets>=7.0.0->swifter) (0.18.1)\n",
            "Requirement already satisfied: importlib-metadata in /usr/local/lib/python3.7/dist-packages (from jsonschema>=2.6->nbformat->notebook>=4.4.1->widgetsnbextension~=3.6.0->ipywidgets>=7.0.0->swifter) (4.12.0)\n",
            "Requirement already satisfied: attrs>=17.4.0 in /usr/local/lib/python3.7/dist-packages (from jsonschema>=2.6->nbformat->notebook>=4.4.1->widgetsnbextension~=3.6.0->ipywidgets>=7.0.0->swifter) (22.1.0)\n",
            "Requirement already satisfied: typing-extensions in /usr/local/lib/python3.7/dist-packages (from jsonschema>=2.6->nbformat->notebook>=4.4.1->widgetsnbextension~=3.6.0->ipywidgets>=7.0.0->swifter) (4.1.1)\n",
            "Requirement already satisfied: importlib-resources>=1.4.0 in /usr/local/lib/python3.7/dist-packages (from jsonschema>=2.6->nbformat->notebook>=4.4.1->widgetsnbextension~=3.6.0->ipywidgets>=7.0.0->swifter) (5.9.0)\n",
            "Requirement already satisfied: zipp>=3.1.0 in /usr/local/lib/python3.7/dist-packages (from importlib-resources>=1.4.0->jsonschema>=2.6->nbformat->notebook>=4.4.1->widgetsnbextension~=3.6.0->ipywidgets>=7.0.0->swifter) (3.8.1)\n",
            "Building wheels for collected packages: swifter\n",
            "  Building wheel for swifter (setup.py) ... \u001b[?25l\u001b[?25hdone\n",
            "  Created wheel for swifter: filename=swifter-1.3.4-py3-none-any.whl size=16322 sha256=ffd085f5db3927f247f73fbc05b916bb97e25b57ee9dc22e32bb3c244b86c7a7\n",
            "  Stored in directory: /root/.cache/pip/wheels/29/a7/0e/3a8f17ac69d759e1e93647114bc9bdc95957e5b0cbfd405205\n",
            "Successfully built swifter\n",
            "Installing collected packages: jedi, psutil, swifter\n",
            "  Attempting uninstall: psutil\n",
            "    Found existing installation: psutil 5.4.8\n",
            "    Uninstalling psutil-5.4.8:\n",
            "      Successfully uninstalled psutil-5.4.8\n",
            "Successfully installed jedi-0.18.1 psutil-5.9.2 swifter-1.3.4\n"
          ]
        },
        {
          "output_type": "display_data",
          "data": {
            "application/vnd.colab-display-data+json": {
              "pip_warning": {
                "packages": [
                  "psutil"
                ]
              }
            }
          },
          "metadata": {}
        }
      ],
      "source": [
        "!pip install swifter #Install swifter. digunakan untuk meningkatkan kecepatan proses pandas\n",
        "import swifter"
      ]
    },
    {
      "cell_type": "code",
      "execution_count": null,
      "id": "686331d8",
      "metadata": {
        "id": "686331d8"
      },
      "outputs": [],
      "source": [
        "%%time\n",
        "data['clean_article'] = data['Article Content'].apply(text_preprocessing_process)\n",
        "\n",
        "# Perhatikan waktu komputasi ketika proses text preprocessing"
      ]
    },
    {
      "cell_type": "code",
      "execution_count": null,
      "id": "22516892",
      "metadata": {
        "id": "22516892"
      },
      "outputs": [],
      "source": [
        "data"
      ]
    },
    {
      "cell_type": "code",
      "execution_count": null,
      "id": "cae8cbc5",
      "metadata": {
        "id": "cae8cbc5"
      },
      "outputs": [],
      "source": [
        "# save data preprocessing\n",
        "# data.to_excel(\"dataset_preprocessing_news.xlsx\")"
      ]
    },
    {
      "cell_type": "markdown",
      "id": "f9ed14bd",
      "metadata": {
        "id": "f9ed14bd"
      },
      "source": [
        "# 03 Feature Extraction"
      ]
    },
    {
      "cell_type": "code",
      "execution_count": null,
      "id": "6d99b058",
      "metadata": {
        "id": "6d99b058"
      },
      "outputs": [],
      "source": [
        "from sklearn.feature_extraction.text import TfidfVectorizer\n",
        "\n",
        "vect =TfidfVectorizer(max_features=1000)\n",
        "vect_text=vect.fit_transform(data['clean_article'])"
      ]
    },
    {
      "cell_type": "code",
      "execution_count": null,
      "id": "d3a0db3a",
      "metadata": {
        "id": "d3a0db3a"
      },
      "outputs": [],
      "source": [
        "#Menampilkan vocabulary dari TF-IDF\n",
        "vect.vocabulary_"
      ]
    },
    {
      "cell_type": "code",
      "execution_count": null,
      "id": "eada1693",
      "metadata": {
        "id": "eada1693"
      },
      "outputs": [],
      "source": [
        "#Lihat data tabular yang menggunakan metode TF-IDF\n",
        "#Data ini siap untuk dimasukkan dalam proses machine learning\n",
        "\n",
        "x1 = vect.transform(data['clean_article']).toarray()\n",
        "data_tabular_tf_idf= pd.DataFrame(x1,columns=vect.get_feature_names())\n",
        "data_tabular_tf_idf"
      ]
    },
    {
      "cell_type": "markdown",
      "id": "1ceddbf2",
      "metadata": {
        "id": "1ceddbf2"
      },
      "source": [
        "# 04 LDA Model"
      ]
    },
    {
      "cell_type": "code",
      "execution_count": null,
      "id": "8ee80f8b",
      "metadata": {
        "id": "8ee80f8b"
      },
      "outputs": [],
      "source": [
        "#Algoritme LDA (Latent Diriclet Allocation)\n",
        "from sklearn.decomposition import LatentDirichletAllocation\n",
        "lda_model=LatentDirichletAllocation(n_components=5,learning_method='online',random_state=0,max_iter=10) \n",
        "\n",
        "lda_top=lda_model.fit_transform(vect_text)"
      ]
    },
    {
      "cell_type": "code",
      "execution_count": null,
      "id": "8db68435",
      "metadata": {
        "id": "8db68435"
      },
      "outputs": [],
      "source": [
        "#Melihat probabilitas dokumen terhadap topik\n",
        "print(\"Document 1: \")\n",
        "for i,topic in enumerate(lda_top[0]):\n",
        "  print(\"Topic \",i+1,\": \",topic*100,\"%\")"
      ]
    },
    {
      "cell_type": "code",
      "execution_count": null,
      "id": "26cfb9be",
      "metadata": {
        "id": "26cfb9be"
      },
      "outputs": [],
      "source": [
        "data_cluster = []\n",
        "for n in range(lda_top.shape[0]):\n",
        "    topic_most_pr = lda_top[n].argmax()\n",
        "    data_cluster.append(topic_most_pr)\n",
        "    print(\"doc: {} topic: {}\\n\".format(n,topic_most_pr))\n",
        "data ['cluster'] = data_cluster "
      ]
    },
    {
      "cell_type": "code",
      "execution_count": null,
      "id": "72555a13",
      "metadata": {
        "id": "72555a13"
      },
      "outputs": [],
      "source": [
        "vocab = vect.get_feature_names()\n",
        "for i, comp in enumerate(lda_model.components_):\n",
        "    vocab_comp = zip(vocab, comp)\n",
        "    sorted_words = sorted(vocab_comp, key= lambda x:x[1], reverse=True)[:10]\n",
        "    print(\"Topic \"+str(i)+\": \")\n",
        "    for t in sorted_words:\n",
        "        print(t[0],end=\" \")\n",
        "    print(\"\\n\")"
      ]
    },
    {
      "cell_type": "code",
      "execution_count": null,
      "id": "4422ffc4",
      "metadata": {
        "id": "4422ffc4"
      },
      "outputs": [],
      "source": [
        "vocab = vect.get_feature_names()\n",
        "for i, comp in enumerate(lda_model.components_):\n",
        "    vocab_comp = zip(vocab, comp)\n",
        "    sorted_words = sorted(vocab_comp, key= lambda x:x[1], reverse=True)[:10]\n",
        "    print(\"Topic \"+str(i+1)+\": \")\n",
        "    for t in sorted_words:\n",
        "        print(t,end=\" \")\n",
        "    print(\"\\n\")"
      ]
    },
    {
      "cell_type": "code",
      "execution_count": null,
      "id": "f5537030",
      "metadata": {
        "id": "f5537030"
      },
      "outputs": [],
      "source": [
        "from wordcloud import WordCloud\n",
        "import matplotlib.pyplot as plt\n",
        "\n",
        "\n",
        "for index, topic in enumerate(lda_model.components_):\n",
        "    tmps = [vect.get_feature_names()[i] for i in topic.argsort()[-10:]]\n",
        "    text = \" \".join(str(topik) for topik in tmps)\n",
        "    wordcloud = WordCloud(max_words=10,colormap='Set1', background_color=\"white\").generate(text)\n",
        "    plt.figure(figsize=(5,5))\n",
        "    plt.imshow(wordcloud)\n",
        "    plt.subplots_adjust(wspace=0, hspace=0)\n",
        "    plt.axis('off')\n",
        "    plt.margins(x=0, y=0)\n",
        "    plt.tight_layout()\n",
        "    plt.show()\n",
        " "
      ]
    },
    {
      "cell_type": "code",
      "execution_count": null,
      "id": "d73f2d24",
      "metadata": {
        "id": "d73f2d24"
      },
      "outputs": [],
      "source": [
        "data"
      ]
    },
    {
      "cell_type": "markdown",
      "id": "e4ba3248",
      "metadata": {
        "id": "e4ba3248"
      },
      "source": [
        "# 05 Student Activity"
      ]
    },
    {
      "cell_type": "markdown",
      "id": "5e03e928",
      "metadata": {
        "id": "5e03e928"
      },
      "source": [
        "Silahkan pahami dengan baik Topic Modeling pipeline di atas, kemudian kerjakan soal di bawah ini:\n",
        "\n",
        "1. Terapkan Topic Modeling Pipeline di atas pada data yang berbeda dan tarik kesimpulan topik yang anda dapatkan. \n",
        "2. Data bisa menggunakan ini <a href=\"https://docs.google.com/spreadsheets/d/1OvKGTnyE3LnP-E6dtwOSLa1IK-ZdrR_i/edit?usp=sharing&ouid=117844591790417079121&rtpof=true&sd=true\"> Klik</a>\n",
        "3. Presentasikan hasil anda di kelas (Coach akan menunjuk beberapa perwakilan untuk presentasi). Persiapkan dengan baik yah."
      ]
    }
  ],
  "metadata": {
    "kernelspec": {
      "display_name": "Python 3 (ipykernel)",
      "language": "python",
      "name": "python3"
    },
    "language_info": {
      "codemirror_mode": {
        "name": "ipython",
        "version": 3
      },
      "file_extension": ".py",
      "mimetype": "text/x-python",
      "name": "python",
      "nbconvert_exporter": "python",
      "pygments_lexer": "ipython3",
      "version": "3.9.12"
    },
    "colab": {
      "provenance": [],
      "collapsed_sections": [],
      "toc_visible": true,
      "include_colab_link": true
    }
  },
  "nbformat": 4,
  "nbformat_minor": 5
}